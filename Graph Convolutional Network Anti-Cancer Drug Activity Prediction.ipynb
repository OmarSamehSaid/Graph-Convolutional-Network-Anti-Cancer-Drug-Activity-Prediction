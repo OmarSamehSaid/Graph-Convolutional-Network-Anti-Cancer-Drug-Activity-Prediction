{
 "cells": [
  {
   "cell_type": "markdown",
   "id": "86ca6a8f",
   "metadata": {},
   "source": [
    "## Data mining questions\n",
    "\n",
    "1- Based on the provided template, describe the format of the input file (sdf file).\n",
    "\n",
    "- Structure Data Format (SDF) is a file format commonly used in chemistry for storing and exchanging molecular structures, properties, and related data.\n",
    "- Can contain information about individual molecules or collections of molecules\n",
    "- it include information about the positions of individual atoms in a chemical molecule as well as the connections between them\n",
    "\n",
    "---\n",
    "\n",
    "\n",
    "2- What are the input tensors to the neural network model (their meaning, not just symbol)? What is each of their dims and their meaning (e.g. batch_size)?\n",
    "\n",
    "- data :The data is in a tokenized form and includes the nodes of the chemical molecule.The batch_size refers to the number of samples in a batch, while max_len_nodes indicates the padded length of the tokenized nodes.\n",
    "\n",
    "- edge : it contains information about the connections between atoms.\n",
    "- node2graph:It is The segmented mean input tensor contains information about segmented IDs.\n",
    "\n",
    "---\n",
    "\n",
    "\n",
    "3- For each dim of gnn_out, what does it symbolize? For each dim of avg, what does it symbolize?\n",
    "- dim of gnn_out is (batch_size_node_dimension, hidden layers), where batch_size_node_dimension refers to the dimension of the input data vector (i.e., the dimension of the tokenized vector for the entire batch) and hidden layers represents the aggregation output of the model for each hidden layer.\n",
    "- dim of avg is determined by calculating the segmented mean of gnn_out using the segmented IDs. Specifically, the output of gnn_out is (tokenized_vector_dimension, hidden_layers) for each sample in the batch_size, and a segment ID is assigned to each sample.\n",
    "\n",
    "---\n",
    "\n",
    "4- What is the difference between segment_mean and tf.reduce_mean? For each dim of pred, what does it symbolize?\n",
    "\n",
    "- segment_mean: calculates the average of data that have the same segmented ids.\n",
    "\n",
    "- reduce_mean: computes the mean value of elements across the specified dimensions of a tensor.\n",
    "- The shape of the \"pred\" tensor is (num_of_graphs, num_of_units in the output layer), where the first dimension represents the number of graphs and the second dimension is the number of units in the output layer, which is 1.\n",
    "\n",
    "---\n",
    "\n",
    "5- What is the motivation/theory/idea to use multiple gcn layers comparing to just one? How many layers were used in the template?\n",
    "\n",
    "- By increasing the number of trainable parameters in the network, the complexity of the model will increase, allowing it to better distinguish features in each node through a more complex hyperplane. This increased complexity can lead to more accurate results for node classification.\n",
    "- the number of layers used in the template was the default number which is 4 layers."
   ]
  },
  {
   "cell_type": "markdown",
   "id": "a17ae494",
   "metadata": {},
   "source": [
    "## problem formulation\n",
    "</br>\n",
    "\n",
    "### problem definition\n",
    "\n",
    "- Our goal is to create a model that can predict the effectiveness of chemical compounds against non-small cell lung cancer using complex chemical structured data. The model will be designed to distinguish between compounds that are effective and those that are not.\n",
    "- input data consists of 2 feature sets: the first set represents the nodes, and the second set represents the edges between these nodes.\n",
    "- output is if this chemical compound is effective (1.0) or not (0.0)\n",
    "---\n",
    "\n",
    "### Data mining function\n",
    "- classification and prediction\n",
    "\n",
    "---\n",
    "\n",
    "### Challenges\n",
    "\n",
    "- Our dataset is stored in SDF files, which are chemical files that represent each sample as nodes and the edges that connect these nodes, along with the corresponding output. Therefore, we require a specialized function to extract the relevant information from these files.\n",
    "\n",
    "- The data is imbalanced\n",
    "\n",
    "\n",
    "---\n",
    "\n",
    "### Model impact\n",
    "\n",
    "- Addressing this medical problem has the potential to make significant progress in the field of medicine.\n",
    "\n",
    "---\n",
    "\n",
    "### The ideal solution\n",
    "\n",
    "- at the end Trial 3.6 (randomOverSample)(GNN-FiLM) was highest for me and got  0.88152 on kaggle wtih thos hyper parameters\n",
    "* params[\"hidden_dim\"] = 64\n",
    "* params[\"num_layers\"] = 6\n",
    "* params[\"film_parameter_MLP_hidden_layers\"] = 1\n"
   ]
  },
  {
   "cell_type": "markdown",
   "id": "f3c12d52",
   "metadata": {},
   "source": [
    "## Experimental protocol\n",
    "\n",
    "### Data preprocessing\n",
    "---\n",
    "- load data and visualize explore it\n",
    "- handle the imbalance problem\n",
    "---\n",
    "### Building models\n",
    "\n",
    "- Start building models each model has different hyperparameters\n",
    "- evaluate each model\n"
   ]
  },
  {
   "cell_type": "code",
   "execution_count": 1,
   "id": "0d12cb82",
   "metadata": {},
   "outputs": [],
   "source": [
    "# !pip install --quiet networkx\n",
    "# !pip install --quiet tf2_gnn"
   ]
  },
  {
   "cell_type": "code",
   "execution_count": 64,
   "id": "0e4bd180",
   "metadata": {},
   "outputs": [],
   "source": [
    "import numpy as np   \n",
    "from tqdm.notebook import tqdm\n",
    "from keras.callbacks import EarlyStopping\n",
    "from sklearn.model_selection import train_test_split\n",
    "from sklearn.utils import resample\n",
    "\n",
    "#importing libraries for displaying network of molecule\n",
    "\n",
    "import networkx as nx\n",
    "import matplotlib.pyplot as plt\n",
    "from matplotlib import cm"
   ]
  },
  {
   "cell_type": "code",
   "execution_count": 110,
   "id": "a6e700fd",
   "metadata": {},
   "outputs": [],
   "source": [
    "\n",
    "from tensorflow.keras.preprocessing.text import Tokenizer\n",
    "from tensorflow.keras.preprocessing.sequence import pad_sequences\n",
    "import random\n",
    "\n",
    "#for deep Graph Neural Network\n",
    "from tf2_gnn.layers.gnn import GNN, GNNInput\n",
    "#importing tensorflow and other libraries\n",
    "import tensorflow as tf\n",
    "from tensorflow.math import segment_mean #to calculate segmented mean\n",
    "from tensorflow import keras\n",
    "from tensorflow.keras import Input, Model #layers and model\n",
    "from tensorflow.keras.layers import Embedding, Dense, Dropout #layers\n",
    "from tensorflow.keras.optimizers import Adam #optimizer\n",
    "from tensorflow.keras.callbacks import EarlyStopping, ReduceLROnPlateau\n",
    "import math\n",
    "import pandas as pd \n",
    "%matplotlib inline\n",
    "import seaborn as sns"
   ]
  },
  {
   "cell_type": "code",
   "execution_count": 4,
   "id": "3a53bb2c",
   "metadata": {},
   "outputs": [],
   "source": [
    "def read_sdf(file):\n",
    "  #opening the file\n",
    "  with open(file, 'r') as rf:\n",
    "    content = rf.read()\n",
    "    samples = content.split('$$$$')\n",
    "    \n",
    "    def parse_sample(s):\n",
    "        lines = s.splitlines()\n",
    "        links = []\n",
    "        nodes = []\n",
    "        label = 0\n",
    "        for l in lines:\n",
    "            if l.strip() == '1.0':\n",
    "                label = 1\n",
    "            if l.strip() == '-1.0':\n",
    "                label = 0\n",
    "            if l.startswith('    '):\n",
    "                feature = l.split()\n",
    "                node = feature[3]\n",
    "                nodes.append(node)\n",
    "            elif l.startswith(' '):\n",
    "                lnk = l.split()\n",
    "                if int(lnk[0]) - 1 < len(nodes):\n",
    "                    links.append((   \n",
    "                        int(lnk[0])-1,   #first atom\n",
    "                        int(lnk[1])-1, # zero-based index #second atom\n",
    "                        # int(lnk[2]) ignore edge weight\n",
    "                    ))\n",
    "        return nodes, np.array(links), label #returning nodes, links and label\n",
    "    #parse_sample for each molecule\n",
    "    return [parse_sample(s) for s in tqdm(samples) if len(s[0]) > 0]  "
   ]
  },
  {
   "cell_type": "code",
   "execution_count": 5,
   "id": "6a7d6e9a",
   "metadata": {},
   "outputs": [
    {
     "data": {
      "application/vnd.jupyter.widget-view+json": {
       "model_id": "adeb63029b424fbea8507d9dbb5587be",
       "version_major": 2,
       "version_minor": 0
      },
      "text/plain": [
       "  0%|          | 0/25024 [00:00<?, ?it/s]"
      ]
     },
     "metadata": {},
     "output_type": "display_data"
    }
   ],
   "source": [
    "#reading train.sdf file\n",
    "training_set = read_sdf('train.sdf')"
   ]
  },
  {
   "cell_type": "code",
   "execution_count": 6,
   "id": "c3956ad3",
   "metadata": {},
   "outputs": [
    {
     "name": "stderr",
     "output_type": "stream",
     "text": [
      "C:\\Users\\lenovo\\AppData\\Local\\Temp\\ipykernel_20936\\852145860.py:1: VisibleDeprecationWarning: Creating an ndarray from ragged nested sequences (which is a list-or-tuple of lists-or-tuples-or ndarrays with different lengths or shapes) is deprecated. If you meant to do this, you must specify 'dtype=object' when creating the ndarray.\n",
      "  np.unique(np.array(training_set)[:,2],return_counts=True)\n"
     ]
    },
    {
     "data": {
      "text/plain": [
       "(array([0, 1], dtype=object), array([23806,  1218], dtype=int64))"
      ]
     },
     "execution_count": 6,
     "metadata": {},
     "output_type": "execute_result"
    }
   ],
   "source": [
    "np.unique(np.array(training_set)[:,2],return_counts=True)"
   ]
  },
  {
   "cell_type": "code",
   "execution_count": 7,
   "id": "e9928cf1",
   "metadata": {},
   "outputs": [],
   "source": [
    "#splitting the train data\n",
    "training_set, validation_set = train_test_split(training_set, test_size=0.2)"
   ]
  },
  {
   "cell_type": "code",
   "execution_count": 8,
   "id": "feedd6a7",
   "metadata": {},
   "outputs": [
    {
     "name": "stderr",
     "output_type": "stream",
     "text": [
      "C:\\Users\\lenovo\\AppData\\Local\\Temp\\ipykernel_20936\\852145860.py:1: VisibleDeprecationWarning: Creating an ndarray from ragged nested sequences (which is a list-or-tuple of lists-or-tuples-or ndarrays with different lengths or shapes) is deprecated. If you meant to do this, you must specify 'dtype=object' when creating the ndarray.\n",
      "  np.unique(np.array(training_set)[:,2],return_counts=True)\n"
     ]
    },
    {
     "data": {
      "text/plain": [
       "(array([0, 1], dtype=object), array([19032,   987], dtype=int64))"
      ]
     },
     "execution_count": 8,
     "metadata": {},
     "output_type": "execute_result"
    }
   ],
   "source": [
    "np.unique(np.array(training_set)[:,2],return_counts=True)"
   ]
  },
  {
   "cell_type": "code",
   "execution_count": 9,
   "id": "a7504694",
   "metadata": {},
   "outputs": [
    {
     "data": {
      "application/vnd.jupyter.widget-view+json": {
       "model_id": "d7ccb7a661f84b859bf3a107290dce92",
       "version_major": 2,
       "version_minor": 0
      },
      "text/plain": [
       "  0%|          | 0/12326 [00:00<?, ?it/s]"
      ]
     },
     "metadata": {},
     "output_type": "display_data"
    }
   ],
   "source": [
    "testing_set = read_sdf('test_x.sdf')"
   ]
  },
  {
   "cell_type": "code",
   "execution_count": 10,
   "id": "a8cd9553",
   "metadata": {},
   "outputs": [],
   "source": [
    "colors = cm.rainbow(np.linspace(0, 1, 50))\n",
    "\n",
    "def visualize(sample):\n",
    "  #initiating an instance of Graph\n",
    "  G=nx.Graph()\n",
    "  #all atoms as nodes\n",
    "  nodes = sample[0]\n",
    "  #all connections as edges\n",
    "  edges = sample[1]\n",
    "  #empty dictionary for labels for the all nodes\n",
    "  labeldict={}\n",
    "  #empty array for each node color\n",
    "  node_color=[]\n",
    "  for i,n in enumerate(nodes):\n",
    "    #adding node to the graph each node as (0,1,2,3..)\n",
    "    G.add_node(i)\n",
    "    #dictionary building with [key,value] as [0:'C']\n",
    "    labeldict[i]=n\n",
    "    #color coding\n",
    "    node_color.append(colors[hash(n)%len(colors)])\n",
    "\n",
    "  # a list of nodes:\n",
    "  for e in edges:\n",
    "    #adding egde to the graph from one connection to other connection\n",
    "    G.add_edge(e[0], e[1]) \n",
    "\n",
    "  #drawing the graph with labels for nodes as atoms and connections as edges    \n",
    "  nx.draw(G, labels=labeldict, with_labels = True, node_color = node_color)\n",
    "  #draw the graph\n",
    "  plt.show()\n",
    "  #returns graph\n",
    "  return G"
   ]
  },
  {
   "cell_type": "code",
   "execution_count": 11,
   "id": "31ec78e1",
   "metadata": {},
   "outputs": [
    {
     "data": {
      "image/png": "[encoded data removed]",
      "text/plain": [
       "<Figure size 640x480 with 1 Axes>"
      ]
     },
     "metadata": {},
     "output_type": "display_data"
    },
    {
     "data": {
      "text/plain": [
       "<networkx.classes.graph.Graph at 0x26ded3b4a30>"
      ]
     },
     "execution_count": 11,
     "metadata": {},
     "output_type": "execute_result"
    }
   ],
   "source": [
    "#displaying one sample\n",
    "plt.clf()\n",
    "visualize(training_set[5])"
   ]
  },
  {
   "cell_type": "markdown",
   "id": "513751f1",
   "metadata": {},
   "source": [
    "# Trial 1 (No Upsampling)"
   ]
  },
  {
   "cell_type": "code",
   "execution_count": 12,
   "id": "a430194f",
   "metadata": {},
   "outputs": [],
   "source": [
    "max_vocab = 500\n",
    "# maximum length of the tokenized vector\n",
    "max_len = 100 \n",
    "\n",
    "# build vocabulary from training set only for nodes characters\n",
    "all_nodes = [s[0] for s in training_set]\n",
    "\n",
    "#training tokenizer\n",
    "tokenizer = Tokenizer(num_words = max_vocab)\n",
    "tokenizer.fit_on_texts(all_nodes)\n",
    "     "
   ]
  },
  {
   "cell_type": "code",
   "execution_count": 13,
   "id": "aa94519b",
   "metadata": {},
   "outputs": [],
   "source": [
    "random.seed(0)\n",
    "\n",
    "def prepare_single_batch(samples):\n",
    "  #nodes characters array\n",
    "  sample_nodes = [s[0] for s in samples]\n",
    "  #tokenizing the sample nodes\n",
    "  sample_nodes = tokenizer.texts_to_sequences(sample_nodes)\n",
    "  #pad_sequences for each sample node with post padding and post truncating \n",
    "  sample_nodes = pad_sequences(sample_nodes, padding='post', truncating = 'pre')\n",
    "  #maximum length of nodes \n",
    "  max_nodes_len = np.shape(sample_nodes)[1]\n",
    "  #defining edges\n",
    "  edges = [s[1]+i*max_nodes_len for i,s in enumerate(samples)]\n",
    "  edges = [e for e in edges if len(e) > 0]\n",
    "\n",
    "  #array definition for segmented_ids\n",
    "  node_to_graph = [[i]*max_nodes_len for i in range(len(samples))]\n",
    "  \n",
    "  #reshaping as 1 vector\n",
    "  all_nodes = np.reshape(sample_nodes, -1)\n",
    "  #concatenating all the edges as size [total_edges ,2]\n",
    "  all_edges = np.concatenate(edges)\n",
    "\n",
    "  node_to_graph = np.reshape(node_to_graph, -1)\n",
    "  #returns a dictionary of features(data,edges,node2grah) and label\n",
    "  return {\n",
    "      'data': all_nodes,\n",
    "      'edges': all_edges,\n",
    "      'node2grah': node_to_graph,\n",
    "  }, np.array([s[2] for s in samples]) "
   ]
  },
  {
   "cell_type": "code",
   "execution_count": 14,
   "id": "dc96a9f6",
   "metadata": {},
   "outputs": [],
   "source": [
    "def gen_batch(dataset, batch_size=16, repeat=False, shuffle=True):\n",
    "    while True:\n",
    "      dataset = list(dataset)\n",
    "      if shuffle:\n",
    "        #randomly shuffling\n",
    "        random.shuffle(dataset)\n",
    "      \n",
    "      #length of dataset\n",
    "      l = len(dataset)\n",
    "      #for creating batches from given dataset\n",
    "      for ndx in range(0, l, batch_size):\n",
    "        #creating batch samples with given batch_size\n",
    "        batch_samples = dataset[ndx:min(ndx + batch_size, l)]\n",
    "        #returning a generator with prepared batches\n",
    "        yield prepare_single_batch(batch_samples)\n",
    "        \n",
    "      if not repeat:\n",
    "          break"
   ]
  },
  {
   "cell_type": "code",
   "execution_count": 15,
   "id": "f9ceb5af",
   "metadata": {},
   "outputs": [
    {
     "name": "stdout",
     "output_type": "stream",
     "text": [
      "data\n",
      "Shape is (96,)\n",
      "edges\n",
      "Shape is (84, 2)\n",
      "node2grah\n",
      "Shape is (96,)\n",
      "label [0 0 0 0]\n"
     ]
    }
   ],
   "source": [
    "# showing one batch:\n",
    "for train_batch in gen_batch(training_set, batch_size=4):\n",
    "    for k,v in train_batch[0].items():\n",
    "        print(k)        \n",
    "        print(\"Shape is \"+str(np.shape(v)))\n",
    "        pass\n",
    "    print('label', train_batch[1])\n",
    "    break"
   ]
  },
  {
   "cell_type": "markdown",
   "id": "df1f7af7",
   "metadata": {},
   "source": [
    "## Trial_1.1 (template)"
   ]
  },
  {
   "cell_type": "markdown",
   "id": "50384a54",
   "metadata": {},
   "source": [
    "in this trial i will use the template to see the results and my expectation to get good results"
   ]
  },
  {
   "cell_type": "code",
   "execution_count": 16,
   "id": "fa6eed19",
   "metadata": {},
   "outputs": [
    {
     "name": "stdout",
     "output_type": "stream",
     "text": [
      "gnn_out KerasTensor(type_spec=TensorSpec(shape=(None, 32), dtype=tf.float32, name=None), name='gnn/StatefulPartitionedCall:0', description=\"created by layer 'gnn'\")\n",
      "mean: KerasTensor(type_spec=TensorSpec(shape=(None, 32), dtype=tf.float32, name=None), name='tf.math.segment_mean/SegmentMean:0', description=\"created by layer 'tf.math.segment_mean'\")\n",
      "pred: KerasTensor(type_spec=TensorSpec(shape=(None, 1), dtype=tf.float32, name=None), name='dense/Sigmoid:0', description=\"created by layer 'dense'\")\n",
      "Model: \"model\"\n",
      "__________________________________________________________________________________________________\n",
      " Layer (type)                   Output Shape         Param #     Connected to                     \n",
      "==================================================================================================\n",
      " input_3 (InputLayer)           [(None,)]            0           []                               \n",
      "                                                                                                  \n",
      " input_1 (InputLayer)           [(None,)]            0           []                               \n",
      "                                                                                                  \n",
      " tf.math.reduce_max (TFOpLambda  ()                  0           ['input_3[0][0]']                \n",
      " )                                                                                                \n",
      "                                                                                                  \n",
      " embedding (Embedding)          (None, 80)           40000       ['input_1[0][0]']                \n",
      "                                                                                                  \n",
      " input_2 (InputLayer)           [(None, 2)]          0           []                               \n",
      "                                                                                                  \n",
      " tf.__operators__.add (TFOpLamb  ()                  0           ['tf.math.reduce_max[0][0]']     \n",
      " da)                                                                                              \n",
      "                                                                                                  \n",
      " gnn (GNN)                      (None, 32)           24384       ['embedding[0][0]',              \n",
      "                                                                  'input_2[0][0]',                \n",
      "                                                                  'input_3[0][0]',                \n",
      "                                                                  'tf.__operators__.add[0][0]']   \n",
      "                                                                                                  \n",
      " tf.math.segment_mean (TFOpLamb  (None, 32)          0           ['gnn[0][0]',                    \n",
      " da)                                                              'input_3[0][0]']                \n",
      "                                                                                                  \n",
      " dense (Dense)                  (None, 1)            33          ['tf.math.segment_mean[0][0]']   \n",
      "                                                                                                  \n",
      "==================================================================================================\n",
      "Total params: 64,417\n",
      "Trainable params: 64,417\n",
      "Non-trainable params: 0\n",
      "__________________________________________________________________________________________________\n"
     ]
    }
   ],
   "source": [
    "#Input layer (tokenized text)\n",
    "data = keras.Input(batch_shape=(None,))\n",
    "\n",
    "# the first dim is different.it is the total number of edges in this batch\n",
    "\n",
    "#Input for edge data\n",
    "edge = keras.Input(batch_shape=(None, 2), dtype=tf.int32)\n",
    "#Input for node2graph ids\n",
    "node2graph = keras.Input(batch_shape=(None,), dtype=tf.int32)\n",
    "#embedding over data with each token as a vector\n",
    "embeded = Embedding(tokenizer.num_words, 80)(data)\n",
    "\n",
    "\n",
    "# number of graphs\n",
    "#calculating number of graphs\n",
    "num_graph = tf.reduce_max(node2graph)+1  \n",
    "\n",
    "#gnn_input layer with inputs as defined above\n",
    "gnn_input = GNNInput(\n",
    "    node_features=embeded,\n",
    "    adjacency_lists=(edge,),\n",
    "    node_to_graph_map=node2graph, \n",
    "    num_graphs=num_graph,\n",
    ")\n",
    "\n",
    "#defining hyperparameters for GNN layer\n",
    "params = GNN.get_default_hyperparameters()\n",
    "params[\"hidden_dim\"] = 32\n",
    "gnn_layer = GNN(params)  \n",
    "#outpur shape: [data_dimension,hidden layers]\n",
    "gnn_out = gnn_layer(gnn_input) \n",
    "\n",
    "print('gnn_out', gnn_out)           \n",
    "\n",
    "#calculating segmented mean based on segment_ids\n",
    "avg = segment_mean(\n",
    "    data=gnn_out,\n",
    "    segment_ids=node2graph\n",
    "    )\n",
    "\n",
    "print('mean:', avg)\n",
    "\n",
    "#final dense layer with sigmoid\n",
    "pred = Dense(1, activation='sigmoid')(avg)\n",
    "#output shape: [batch_size,1]\n",
    "print('pred:', pred)\n",
    "\n",
    "#Building The Model \n",
    "#inputs is dictionary of data, edges, node2graph\n",
    "#output: prediction value from dense layer\n",
    "model = Model(\n",
    "    inputs={\n",
    "        'data': data, \n",
    "        'edges': edge,\n",
    "        'node2grah': node2graph,\n",
    "    },\n",
    "    outputs=pred\n",
    ")\n",
    "model.summary()"
   ]
  },
  {
   "cell_type": "code",
   "execution_count": 19,
   "id": "da492609",
   "metadata": {},
   "outputs": [],
   "source": [
    "#compile the model by using my adam optimizer and BinaryCrossentropy loss\n",
    "model.compile(\n",
    "    optimizer = \"adam\",\n",
    "    loss='BinaryCrossentropy',\n",
    "    metrics=['AUC']\n",
    ")"
   ]
  },
  {
   "cell_type": "code",
   "execution_count": 20,
   "id": "993a4061",
   "metadata": {},
   "outputs": [
    {
     "name": "stdout",
     "output_type": "stream",
     "text": [
      "Epoch 1/30\n"
     ]
    },
    {
     "name": "stderr",
     "output_type": "stream",
     "text": [
      "C:\\Users\\lenovo\\AppData\\Roaming\\Python\\Python39\\site-packages\\tensorflow\\python\\framework\\indexed_slices.py:444: UserWarning: Converting sparse IndexedSlices(IndexedSlices(indices=Tensor(\"gradients/cond_3_grad/Identity_1:0\", shape=(None,), dtype=int32), values=Tensor(\"gradients/cond_3_grad/Identity:0\", shape=(None, 32), dtype=float32), dense_shape=Tensor(\"gradients/cond_3_grad/Identity_2:0\", shape=(2,), dtype=int32))) to a dense Tensor of unknown shape. This may consume a large amount of memory.\n",
      "  warnings.warn(\n",
      "C:\\Users\\lenovo\\AppData\\Roaming\\Python\\Python39\\site-packages\\tensorflow\\python\\framework\\indexed_slices.py:444: UserWarning: Converting sparse IndexedSlices(IndexedSlices(indices=Tensor(\"gradients/GatherV2_1_grad/Reshape_1:0\", shape=(None,), dtype=int32), values=Tensor(\"gradients/GatherV2_1_grad/Reshape:0\", shape=(None,), dtype=float32), dense_shape=Tensor(\"gradients/GatherV2_1_grad/Cast:0\", shape=(1,), dtype=int32))) to a dense Tensor of unknown shape. This may consume a large amount of memory.\n",
      "  warnings.warn(\n",
      "C:\\Users\\lenovo\\AppData\\Roaming\\Python\\Python39\\site-packages\\tensorflow\\python\\framework\\indexed_slices.py:444: UserWarning: Converting sparse IndexedSlices(IndexedSlices(indices=Tensor(\"gradients/GatherV2_grad/Reshape_1:0\", shape=(None,), dtype=int32), values=Tensor(\"gradients/GatherV2_grad/Reshape:0\", shape=(None,), dtype=float32), dense_shape=Tensor(\"gradients/GatherV2_grad/Cast:0\", shape=(1,), dtype=int32))) to a dense Tensor of unknown shape. This may consume a large amount of memory.\n",
      "  warnings.warn(\n",
      "C:\\Users\\lenovo\\AppData\\Roaming\\Python\\Python39\\site-packages\\tensorflow\\python\\framework\\indexed_slices.py:444: UserWarning: Converting sparse IndexedSlices(IndexedSlices(indices=Tensor(\"gradients/rgcn_2/embedding_lookup_grad/Reshape_1:0\", shape=(None,), dtype=int32), values=Tensor(\"gradients/rgcn_2/embedding_lookup_grad/Reshape:0\", shape=(None, 32), dtype=float32), dense_shape=Tensor(\"gradients/rgcn_2/embedding_lookup_grad/Cast:0\", shape=(2,), dtype=int32))) to a dense Tensor of unknown shape. This may consume a large amount of memory.\n",
      "  warnings.warn(\n",
      "C:\\Users\\lenovo\\AppData\\Roaming\\Python\\Python39\\site-packages\\tensorflow\\python\\framework\\indexed_slices.py:444: UserWarning: Converting sparse IndexedSlices(IndexedSlices(indices=Tensor(\"gradients/cond_1_grad/Identity_1:0\", shape=(None,), dtype=int32), values=Tensor(\"gradients/cond_1_grad/Identity:0\", shape=(None, 32), dtype=float32), dense_shape=Tensor(\"gradients/cond_1_grad/Identity_2:0\", shape=(2,), dtype=int32))) to a dense Tensor of unknown shape. This may consume a large amount of memory.\n",
      "  warnings.warn(\n",
      "C:\\Users\\lenovo\\AppData\\Roaming\\Python\\Python39\\site-packages\\tensorflow\\python\\framework\\indexed_slices.py:444: UserWarning: Converting sparse IndexedSlices(IndexedSlices(indices=Tensor(\"gradients/rgcn/embedding_lookup_grad/Reshape_1:0\", shape=(None,), dtype=int32), values=Tensor(\"gradients/rgcn/embedding_lookup_grad/Reshape:0\", shape=(None, 32), dtype=float32), dense_shape=Tensor(\"gradients/rgcn/embedding_lookup_grad/Cast:0\", shape=(2,), dtype=int32))) to a dense Tensor of unknown shape. This may consume a large amount of memory.\n",
      "  warnings.warn(\n"
     ]
    },
    {
     "name": "stdout",
     "output_type": "stream",
     "text": [
      "626/626 [==============================] - 11s 12ms/step - loss: 0.2575 - auc: 0.4549 - val_loss: 0.1887 - val_auc: 0.5996\n",
      "Epoch 2/30\n",
      "626/626 [==============================] - 7s 11ms/step - loss: 0.1946 - auc: 0.6123 - val_loss: 0.2072 - val_auc: 0.6502\n",
      "Epoch 3/30\n",
      "626/626 [==============================] - 7s 12ms/step - loss: 0.1881 - auc: 0.6577 - val_loss: 0.1871 - val_auc: 0.6509\n",
      "Epoch 4/30\n",
      "626/626 [==============================] - 7s 11ms/step - loss: 0.1850 - auc: 0.6759 - val_loss: 0.1780 - val_auc: 0.6868\n",
      "Epoch 5/30\n",
      "626/626 [==============================] - 7s 11ms/step - loss: 0.1820 - auc: 0.7017 - val_loss: 0.1715 - val_auc: 0.6965\n",
      "Epoch 6/30\n",
      "626/626 [==============================] - 7s 11ms/step - loss: 0.1804 - auc: 0.7091 - val_loss: 0.1727 - val_auc: 0.7049\n",
      "Epoch 7/30\n",
      "626/626 [==============================] - 8s 12ms/step - loss: 0.1790 - auc: 0.7149 - val_loss: 0.1842 - val_auc: 0.7155\n",
      "Epoch 8/30\n",
      "626/626 [==============================] - 7s 12ms/step - loss: 0.1767 - auc: 0.7320 - val_loss: 0.1751 - val_auc: 0.7263\n",
      "Epoch 9/30\n",
      "626/626 [==============================] - 7s 12ms/step - loss: 0.1755 - auc: 0.7337 - val_loss: 0.1696 - val_auc: 0.7213\n",
      "Epoch 10/30\n",
      "626/626 [==============================] - 7s 11ms/step - loss: 0.1748 - auc: 0.7391 - val_loss: 0.1841 - val_auc: 0.7267\n",
      "Epoch 11/30\n",
      "626/626 [==============================] - 7s 11ms/step - loss: 0.1725 - auc: 0.7520 - val_loss: 0.1715 - val_auc: 0.7309\n",
      "Epoch 12/30\n",
      "626/626 [==============================] - 7s 11ms/step - loss: 0.1737 - auc: 0.7498 - val_loss: 0.1684 - val_auc: 0.7354\n",
      "Epoch 13/30\n",
      "626/626 [==============================] - 7s 11ms/step - loss: 0.1723 - auc: 0.7527 - val_loss: 0.1733 - val_auc: 0.7558\n",
      "Epoch 14/30\n",
      "626/626 [==============================] - 7s 12ms/step - loss: 0.1716 - auc: 0.7543 - val_loss: 0.1649 - val_auc: 0.7563\n",
      "Epoch 15/30\n",
      "626/626 [==============================] - 7s 11ms/step - loss: 0.1712 - auc: 0.7561 - val_loss: 0.1679 - val_auc: 0.7483\n",
      "Epoch 16/30\n",
      "626/626 [==============================] - 7s 12ms/step - loss: 0.1727 - auc: 0.7512 - val_loss: 0.1703 - val_auc: 0.7425\n",
      "Epoch 17/30\n",
      "626/626 [==============================] - 7s 11ms/step - loss: 0.1699 - auc: 0.7624 - val_loss: 0.1719 - val_auc: 0.7464\n",
      "Epoch 18/30\n",
      "626/626 [==============================] - 7s 11ms/step - loss: 0.1695 - auc: 0.7683 - val_loss: 0.1704 - val_auc: 0.7509\n",
      "Epoch 19/30\n",
      "626/626 [==============================] - 7s 11ms/step - loss: 0.1697 - auc: 0.7696 - val_loss: 0.1688 - val_auc: 0.7528\n",
      "Epoch 20/30\n",
      "626/626 [==============================] - 7s 11ms/step - loss: 0.1679 - auc: 0.7749 - val_loss: 0.1663 - val_auc: 0.7670\n",
      "Epoch 21/30\n",
      "626/626 [==============================] - 7s 11ms/step - loss: 0.1687 - auc: 0.7720 - val_loss: 0.1660 - val_auc: 0.7573\n",
      "Epoch 22/30\n",
      "626/626 [==============================] - 7s 10ms/step - loss: 0.1681 - auc: 0.7745 - val_loss: 0.1678 - val_auc: 0.7765\n",
      "Epoch 23/30\n",
      "626/626 [==============================] - 7s 11ms/step - loss: 0.1685 - auc: 0.7781 - val_loss: 0.1739 - val_auc: 0.7538\n",
      "Epoch 24/30\n",
      "626/626 [==============================] - 7s 10ms/step - loss: 0.1683 - auc: 0.7714 - val_loss: 0.1659 - val_auc: 0.7674\n",
      "Epoch 25/30\n",
      "626/626 [==============================] - 7s 11ms/step - loss: 0.1674 - auc: 0.7786 - val_loss: 0.1661 - val_auc: 0.7614\n",
      "Epoch 26/30\n",
      "626/626 [==============================] - 7s 11ms/step - loss: 0.1667 - auc: 0.7790 - val_loss: 0.1680 - val_auc: 0.7629\n",
      "Epoch 27/30\n",
      "626/626 [==============================] - 7s 11ms/step - loss: 0.1658 - auc: 0.7827 - val_loss: 0.1641 - val_auc: 0.7726\n",
      "Epoch 28/30\n",
      "626/626 [==============================] - 8s 12ms/step - loss: 0.1649 - auc: 0.7865 - val_loss: 0.1706 - val_auc: 0.7553\n",
      "Epoch 29/30\n",
      "626/626 [==============================] - 7s 11ms/step - loss: 0.1654 - auc: 0.7886 - val_loss: 0.1650 - val_auc: 0.7646\n",
      "Epoch 30/30\n",
      "626/626 [==============================] - 7s 11ms/step - loss: 0.1661 - auc: 0.7848 - val_loss: 0.1628 - val_auc: 0.7753\n"
     ]
    }
   ],
   "source": [
    "batch_size = 32\n",
    "#math.ceil: returns the smallest integral value greater than the number\n",
    "#no. of batches for training data\n",
    "num_batchs = math.ceil(len(training_set) / batch_size)\n",
    "#no. of batches for validation data\n",
    "num_batchs_validation = math.ceil(len(validation_set) / batch_size)\n",
    "hist = model.fit(\n",
    "    gen_batch(\n",
    "        training_set, batch_size=batch_size, repeat=True\n",
    "    ),\n",
    "    steps_per_epoch=num_batchs,\n",
    "    epochs=30,\n",
    "    validation_data=gen_batch(\n",
    "        validation_set, batch_size=32, repeat=True\n",
    "    ),\n",
    "    validation_steps=num_batchs_validation,\n",
    "    verbose=1\n",
    ")\n"
   ]
  },
  {
   "cell_type": "markdown",
   "id": "d4d72eef",
   "metadata": {},
   "source": [
    "- 78.5% training AUC\n",
    "- 77.5% validation AUC\n",
    "i think its a good start and we can still improve"
   ]
  },
  {
   "cell_type": "markdown",
   "id": "cb569662",
   "metadata": {},
   "source": [
    "# Trial 2.1 (Upsampling) (template)"
   ]
  },
  {
   "cell_type": "code",
   "execution_count": 21,
   "id": "d9ae36fd",
   "metadata": {},
   "outputs": [
    {
     "data": {
      "application/vnd.jupyter.widget-view+json": {
       "model_id": "20df0ecfebb642429c974ae093bf244a",
       "version_major": 2,
       "version_minor": 0
      },
      "text/plain": [
       "  0%|          | 0/25024 [00:00<?, ?it/s]"
      ]
     },
     "metadata": {},
     "output_type": "display_data"
    }
   ],
   "source": [
    "training_set2 = read_sdf('train.sdf')"
   ]
  },
  {
   "cell_type": "code",
   "execution_count": 25,
   "id": "33d0ea4b",
   "metadata": {},
   "outputs": [
    {
     "name": "stderr",
     "output_type": "stream",
     "text": [
      "C:\\Users\\lenovo\\AppData\\Local\\Temp\\ipykernel_20936\\3096225700.py:1: VisibleDeprecationWarning: Creating an ndarray from ragged nested sequences (which is a list-or-tuple of lists-or-tuples-or ndarrays with different lengths or shapes) is deprecated. If you meant to do this, you must specify 'dtype=object' when creating the ndarray.\n",
      "  np.unique(np.array(training_set2)[:,2],return_counts=True)\n"
     ]
    },
    {
     "data": {
      "text/plain": [
       "(array([0, 1], dtype=object), array([23806,  1218], dtype=int64))"
      ]
     },
     "execution_count": 25,
     "metadata": {},
     "output_type": "execute_result"
    }
   ],
   "source": [
    "np.unique(np.array(training_set2)[:,2],return_counts=True)"
   ]
  },
  {
   "cell_type": "code",
   "execution_count": 29,
   "id": "f9ff110b",
   "metadata": {},
   "outputs": [],
   "source": [
    "maxCount=23806"
   ]
  },
  {
   "cell_type": "code",
   "execution_count": 28,
   "id": "786006c3",
   "metadata": {},
   "outputs": [
    {
     "name": "stderr",
     "output_type": "stream",
     "text": [
      "C:\\Users\\lenovo\\AppData\\Local\\Temp\\ipykernel_20936\\3167736592.py:1: VisibleDeprecationWarning: Creating an ndarray from ragged nested sequences (which is a list-or-tuple of lists-or-tuples-or ndarrays with different lengths or shapes) is deprecated. If you meant to do this, you must specify 'dtype=object' when creating the ndarray.\n",
      "  unique, counts = np.unique(np.array(training_set2)[:,2], return_counts=True)\n"
     ]
    },
    {
     "data": {
      "image/png": "[encoded data removed]",
      "text/plain": [
       "<Figure size 640x480 with 1 Axes>"
      ]
     },
     "metadata": {},
     "output_type": "display_data"
    }
   ],
   "source": [
    "unique, counts = np.unique(np.array(training_set2)[:,2], return_counts=True)\n",
    "\n",
    "sns.barplot(x=unique, y=counts)\n",
    "plt.xlabel('target')\n",
    "plt.ylabel('Counts')\n",
    "plt.title('Counts of target')\n",
    "plt.show()"
   ]
  },
  {
   "cell_type": "code",
   "execution_count": 31,
   "id": "217b5f08",
   "metadata": {},
   "outputs": [
    {
     "name": "stderr",
     "output_type": "stream",
     "text": [
      "C:\\Users\\lenovo\\AppData\\Local\\Temp\\ipykernel_20936\\202474016.py:2: VisibleDeprecationWarning: Creating an ndarray from ragged nested sequences (which is a list-or-tuple of lists-or-tuples-or ndarrays with different lengths or shapes) is deprecated. If you meant to do this, you must specify 'dtype=object' when creating the ndarray.\n",
      "  data = pd.DataFrame(np.array(training_set2)[:,:], columns = ['0', '1', 'target'])\n"
     ]
    }
   ],
   "source": [
    "#convert the data from List to DataFrame to make upsampling\n",
    "data = pd.DataFrame(np.array(training_set2)[:,:], columns = ['0', '1', 'target'])"
   ]
  },
  {
   "cell_type": "code",
   "execution_count": 32,
   "id": "0334234b",
   "metadata": {},
   "outputs": [],
   "source": [
    "resampling = data.copy()  #take a copy of dataframe\n",
    "class_0 = resampling[resampling['target']==0]   # all rows has target zero\n",
    "class_1 = resampling[resampling['target']==1]   # all rows has target one\n",
    "class_1_after = resample(class_1, replace=True,n_samples = maxCount)   \n",
    "data_upsampled = pd.concat([class_0, class_1_after])    #add the new rows "
   ]
  },
  {
   "cell_type": "code",
   "execution_count": 33,
   "id": "bf8425cb",
   "metadata": {},
   "outputs": [
    {
     "data": {
      "text/plain": [
       "0    23806\n",
       "1    23806\n",
       "Name: target, dtype: int64"
      ]
     },
     "execution_count": 33,
     "metadata": {},
     "output_type": "execute_result"
    }
   ],
   "source": [
    "data_upsampled['target'].value_counts()"
   ]
  },
  {
   "cell_type": "code",
   "execution_count": 35,
   "id": "2e6fa91b",
   "metadata": {},
   "outputs": [
    {
     "data": {
      "image/png": "[encoded data removed]",
      "text/plain": [
       "<Figure size 640x480 with 1 Axes>"
      ]
     },
     "metadata": {},
     "output_type": "display_data"
    }
   ],
   "source": [
    "sns.countplot(x='target', data=data_upsampled)\n",
    "plt.xlabel('Target')\n",
    "plt.ylabel('Counts')\n",
    "plt.title('Counts of Target')\n",
    "plt.show()"
   ]
  },
  {
   "cell_type": "code",
   "execution_count": 36,
   "id": "20f8b14c",
   "metadata": {},
   "outputs": [],
   "source": [
    "#converting the upsampled DataFrame into list\n",
    "training_set2 = data_upsampled.values.tolist()"
   ]
  },
  {
   "cell_type": "code",
   "execution_count": 48,
   "id": "eb76304a",
   "metadata": {},
   "outputs": [],
   "source": [
    "training_set, validation_set = train_test_split(training_set2, test_size=0.15)"
   ]
  },
  {
   "cell_type": "code",
   "execution_count": 49,
   "id": "e629866b",
   "metadata": {},
   "outputs": [
    {
     "data": {
      "image/png": "[encoded data removed]",
      "text/plain": [
       "<Figure size 640x480 with 1 Axes>"
      ]
     },
     "metadata": {},
     "output_type": "display_data"
    },
    {
     "data": {
      "text/plain": [
       "<networkx.classes.graph.Graph at 0x26d9904ea60>"
      ]
     },
     "execution_count": 49,
     "metadata": {},
     "output_type": "execute_result"
    }
   ],
   "source": [
    "#displaying one sample\n",
    "plt.clf()\n",
    "visualize(training_set2[5])"
   ]
  },
  {
   "cell_type": "code",
   "execution_count": 51,
   "id": "220c0256",
   "metadata": {},
   "outputs": [],
   "source": [
    "#vocabulary size\n",
    "max_vocab = 500\n",
    "# maximum length of the tokenized vector\n",
    "max_len = 100 \n",
    "\n",
    "# build vocabulary from training set only for nodes characters\n",
    "all_nodes = [s[0] for s in training_set2]\n",
    "\n",
    "#training tokenizer\n",
    "tokenizer = Tokenizer(num_words = max_vocab)\n",
    "tokenizer.fit_on_texts(all_nodes)"
   ]
  },
  {
   "cell_type": "code",
   "execution_count": 52,
   "id": "c95c7119",
   "metadata": {},
   "outputs": [
    {
     "name": "stdout",
     "output_type": "stream",
     "text": [
      "data\n",
      "Shape is (176,)\n",
      "edges\n",
      "Shape is (120, 2)\n",
      "node2grah\n",
      "Shape is (176,)\n",
      "label [0 1 1 1]\n"
     ]
    }
   ],
   "source": [
    "# showing one batch:\n",
    "for train_batch in gen_batch(training_set2, batch_size=4):\n",
    "    for k,v in train_batch[0].items():\n",
    "        print(k)  \n",
    "        print(\"Shape is \"+str(np.shape(v)))\n",
    "        pass\n",
    "    print('label', train_batch[1])\n",
    "    break"
   ]
  },
  {
   "cell_type": "code",
   "execution_count": 53,
   "id": "4b1ee5b2",
   "metadata": {},
   "outputs": [
    {
     "name": "stdout",
     "output_type": "stream",
     "text": [
      "gnn_out KerasTensor(type_spec=TensorSpec(shape=(None, 40), dtype=tf.float32, name=None), name='gnn_1/StatefulPartitionedCall:0', description=\"created by layer 'gnn_1'\")\n",
      "mean: KerasTensor(type_spec=TensorSpec(shape=(None, 40), dtype=tf.float32, name=None), name='tf.math.segment_mean_1/SegmentMean:0', description=\"created by layer 'tf.math.segment_mean_1'\")\n",
      "pred: KerasTensor(type_spec=TensorSpec(shape=(None, 1), dtype=tf.float32, name=None), name='dense_1/Sigmoid:0', description=\"created by layer 'dense_1'\")\n",
      "Model: \"model_1\"\n",
      "__________________________________________________________________________________________________\n",
      " Layer (type)                   Output Shape         Param #     Connected to                     \n",
      "==================================================================================================\n",
      " input_6 (InputLayer)           [(None,)]            0           []                               \n",
      "                                                                                                  \n",
      " input_4 (InputLayer)           [(None,)]            0           []                               \n",
      "                                                                                                  \n",
      " tf.math.reduce_max_1 (TFOpLamb  ()                  0           ['input_6[0][0]']                \n",
      " da)                                                                                              \n",
      "                                                                                                  \n",
      " embedding_1 (Embedding)        (None, 80)           40000       ['input_4[0][0]']                \n",
      "                                                                                                  \n",
      " input_5 (InputLayer)           [(None, 2)]          0           []                               \n",
      "                                                                                                  \n",
      " tf.__operators__.add_1 (TFOpLa  ()                  0           ['tf.math.reduce_max_1[0][0]']   \n",
      " mbda)                                                                                            \n",
      "                                                                                                  \n",
      " gnn_1 (GNN)                    (None, 40)           34640       ['embedding_1[0][0]',            \n",
      "                                                                  'input_5[0][0]',                \n",
      "                                                                  'input_6[0][0]',                \n",
      "                                                                  'tf.__operators__.add_1[0][0]'] \n",
      "                                                                                                  \n",
      " tf.math.segment_mean_1 (TFOpLa  (None, 40)          0           ['gnn_1[0][0]',                  \n",
      " mbda)                                                            'input_6[0][0]']                \n",
      "                                                                                                  \n",
      " dense_1 (Dense)                (None, 1)            41          ['tf.math.segment_mean_1[0][0]'] \n",
      "                                                                                                  \n",
      "==================================================================================================\n",
      "Total params: 74,681\n",
      "Trainable params: 74,681\n",
      "Non-trainable params: 0\n",
      "__________________________________________________________________________________________________\n"
     ]
    }
   ],
   "source": [
    "data = keras.Input(batch_shape=(None,))\n",
    "\n",
    "edge = keras.Input(batch_shape=(None, 2), dtype=tf.int32)\n",
    "node2graph = keras.Input(batch_shape=(None,), dtype=tf.int32)\n",
    "embeded = Embedding(tokenizer.num_words, 80)(data)\n",
    "\n",
    "\n",
    "num_graph = tf.reduce_max(node2graph)+1  \n",
    "\n",
    "gnn_input = GNNInput(\n",
    "    node_features=embeded,\n",
    "    adjacency_lists=(edge,),\n",
    "    node_to_graph_map=node2graph, \n",
    "    num_graphs=num_graph,\n",
    ")\n",
    "\n",
    "params = GNN.get_default_hyperparameters()\n",
    "params[\"hidden_dim\"] = 40\n",
    "gnn_layer = GNN(params)  \n",
    "gnn_out = gnn_layer(gnn_input) \n",
    "\n",
    "print('gnn_out', gnn_out)           \n",
    "\n",
    "avg = segment_mean(\n",
    "    data=gnn_out,\n",
    "    segment_ids=node2graph\n",
    "    )\n",
    "\n",
    "print('mean:', avg)\n",
    "\n",
    "pred = Dense(1, activation='sigmoid')(avg)\n",
    "print('pred:', pred)\n",
    "\n",
    "model = Model(\n",
    "    inputs={\n",
    "        'data': data, \n",
    "        'edges': edge,\n",
    "        'node2grah': node2graph,\n",
    "    },\n",
    "    outputs=pred\n",
    ")\n",
    "model.summary()"
   ]
  },
  {
   "cell_type": "markdown",
   "id": "d8736deb",
   "metadata": {},
   "source": [
    "i expect to get higher than without upsample so above 80 maybe"
   ]
  },
  {
   "cell_type": "code",
   "execution_count": 55,
   "id": "dc3ab667",
   "metadata": {},
   "outputs": [],
   "source": [
    "model.compile(\n",
    "    optimizer = \"adam\",\n",
    "    loss='BinaryCrossentropy',\n",
    "    metrics=['AUC']\n",
    ")"
   ]
  },
  {
   "cell_type": "code",
   "execution_count": 56,
   "id": "26522a33",
   "metadata": {},
   "outputs": [
    {
     "name": "stdout",
     "output_type": "stream",
     "text": [
      "Epoch 1/30\n"
     ]
    },
    {
     "name": "stderr",
     "output_type": "stream",
     "text": [
      "C:\\Users\\lenovo\\AppData\\Roaming\\Python\\Python39\\site-packages\\tensorflow\\python\\framework\\indexed_slices.py:444: UserWarning: Converting sparse IndexedSlices(IndexedSlices(indices=Tensor(\"gradients/cond_3_grad/Identity_1:0\", shape=(None,), dtype=int32), values=Tensor(\"gradients/cond_3_grad/Identity:0\", shape=(None, 40), dtype=float32), dense_shape=Tensor(\"gradients/cond_3_grad/Identity_2:0\", shape=(2,), dtype=int32))) to a dense Tensor of unknown shape. This may consume a large amount of memory.\n",
      "  warnings.warn(\n",
      "C:\\Users\\lenovo\\AppData\\Roaming\\Python\\Python39\\site-packages\\tensorflow\\python\\framework\\indexed_slices.py:444: UserWarning: Converting sparse IndexedSlices(IndexedSlices(indices=Tensor(\"gradients/rgcn_2/embedding_lookup_grad/Reshape_1:0\", shape=(None,), dtype=int32), values=Tensor(\"gradients/rgcn_2/embedding_lookup_grad/Reshape:0\", shape=(None, 40), dtype=float32), dense_shape=Tensor(\"gradients/rgcn_2/embedding_lookup_grad/Cast:0\", shape=(2,), dtype=int32))) to a dense Tensor of unknown shape. This may consume a large amount of memory.\n",
      "  warnings.warn(\n",
      "C:\\Users\\lenovo\\AppData\\Roaming\\Python\\Python39\\site-packages\\tensorflow\\python\\framework\\indexed_slices.py:444: UserWarning: Converting sparse IndexedSlices(IndexedSlices(indices=Tensor(\"gradients/cond_1_grad/Identity_1:0\", shape=(None,), dtype=int32), values=Tensor(\"gradients/cond_1_grad/Identity:0\", shape=(None, 40), dtype=float32), dense_shape=Tensor(\"gradients/cond_1_grad/Identity_2:0\", shape=(2,), dtype=int32))) to a dense Tensor of unknown shape. This may consume a large amount of memory.\n",
      "  warnings.warn(\n",
      "C:\\Users\\lenovo\\AppData\\Roaming\\Python\\Python39\\site-packages\\tensorflow\\python\\framework\\indexed_slices.py:444: UserWarning: Converting sparse IndexedSlices(IndexedSlices(indices=Tensor(\"gradients/rgcn/embedding_lookup_grad/Reshape_1:0\", shape=(None,), dtype=int32), values=Tensor(\"gradients/rgcn/embedding_lookup_grad/Reshape:0\", shape=(None, 40), dtype=float32), dense_shape=Tensor(\"gradients/rgcn/embedding_lookup_grad/Cast:0\", shape=(2,), dtype=int32))) to a dense Tensor of unknown shape. This may consume a large amount of memory.\n",
      "  warnings.warn(\n"
     ]
    },
    {
     "name": "stdout",
     "output_type": "stream",
     "text": [
      "1265/1265 [==============================] - 15s 11ms/step - loss: 0.6165 - auc: 0.7211 - val_loss: 0.5914 - val_auc: 0.7556\n",
      "Epoch 2/30\n",
      "1265/1265 [==============================] - 14s 11ms/step - loss: 0.5851 - auc: 0.7573 - val_loss: 0.5688 - val_auc: 0.7727\n",
      "Epoch 3/30\n",
      "1265/1265 [==============================] - 14s 11ms/step - loss: 0.5706 - auc: 0.7728 - val_loss: 0.5690 - val_auc: 0.7785\n",
      "Epoch 4/30\n",
      "1265/1265 [==============================] - 13s 11ms/step - loss: 0.5604 - auc: 0.7840 - val_loss: 0.5533 - val_auc: 0.7891\n",
      "Epoch 5/30\n",
      "1265/1265 [==============================] - 14s 11ms/step - loss: 0.5474 - auc: 0.7960 - val_loss: 0.5280 - val_auc: 0.8170\n",
      "Epoch 6/30\n",
      "1265/1265 [==============================] - 14s 11ms/step - loss: 0.5264 - auc: 0.8153 - val_loss: 0.5163 - val_auc: 0.8279\n",
      "Epoch 7/30\n",
      "1265/1265 [==============================] - 13s 11ms/step - loss: 0.5110 - auc: 0.8285 - val_loss: 0.4933 - val_auc: 0.8431\n",
      "Epoch 8/30\n",
      "1265/1265 [==============================] - 14s 11ms/step - loss: 0.4978 - auc: 0.8386 - val_loss: 0.4845 - val_auc: 0.8489\n",
      "Epoch 9/30\n",
      "1265/1265 [==============================] - 14s 11ms/step - loss: 0.4837 - auc: 0.8484 - val_loss: 0.4689 - val_auc: 0.8610\n",
      "Epoch 10/30\n",
      "1265/1265 [==============================] - 14s 11ms/step - loss: 0.4745 - auc: 0.8549 - val_loss: 0.4596 - val_auc: 0.8692\n",
      "Epoch 11/30\n",
      "1265/1265 [==============================] - 14s 11ms/step - loss: 0.4643 - auc: 0.8614 - val_loss: 0.4562 - val_auc: 0.8671\n",
      "Epoch 12/30\n",
      "1265/1265 [==============================] - 14s 11ms/step - loss: 0.4518 - auc: 0.8700 - val_loss: 0.4293 - val_auc: 0.8847\n",
      "Epoch 13/30\n",
      "1265/1265 [==============================] - 14s 11ms/step - loss: 0.4418 - auc: 0.8759 - val_loss: 0.4547 - val_auc: 0.8807\n",
      "Epoch 14/30\n",
      "1265/1265 [==============================] - 14s 11ms/step - loss: 0.4340 - auc: 0.8807 - val_loss: 0.4079 - val_auc: 0.8964\n",
      "Epoch 15/30\n",
      "1265/1265 [==============================] - 14s 11ms/step - loss: 0.4214 - auc: 0.8887 - val_loss: 0.4081 - val_auc: 0.8970\n",
      "Epoch 16/30\n",
      "1265/1265 [==============================] - 14s 11ms/step - loss: 0.4146 - auc: 0.8922 - val_loss: 0.4080 - val_auc: 0.9028\n",
      "Epoch 17/30\n",
      "1265/1265 [==============================] - 14s 11ms/step - loss: 0.4068 - auc: 0.8966 - val_loss: 0.3919 - val_auc: 0.9069\n",
      "Epoch 18/30\n",
      "1265/1265 [==============================] - 13s 11ms/step - loss: 0.4012 - auc: 0.8999 - val_loss: 0.3860 - val_auc: 0.9126\n",
      "Epoch 19/30\n",
      "1265/1265 [==============================] - 14s 11ms/step - loss: 0.3900 - auc: 0.9049 - val_loss: 0.4008 - val_auc: 0.9098\n",
      "Epoch 20/30\n",
      "1265/1265 [==============================] - 13s 10ms/step - loss: 0.3817 - auc: 0.9094 - val_loss: 0.3637 - val_auc: 0.9214\n",
      "Epoch 21/30\n",
      "1265/1265 [==============================] - 13s 10ms/step - loss: 0.3792 - auc: 0.9110 - val_loss: 0.3734 - val_auc: 0.9181\n",
      "Epoch 22/30\n",
      "1265/1265 [==============================] - 13s 10ms/step - loss: 0.3742 - auc: 0.9136 - val_loss: 0.3700 - val_auc: 0.9221\n",
      "Epoch 23/30\n",
      "1265/1265 [==============================] - 13s 11ms/step - loss: 0.3641 - auc: 0.9182 - val_loss: 0.3630 - val_auc: 0.9219\n",
      "Epoch 24/30\n",
      "1265/1265 [==============================] - 14s 11ms/step - loss: 0.3580 - auc: 0.9209 - val_loss: 0.3348 - val_auc: 0.9338\n",
      "Epoch 25/30\n",
      "1265/1265 [==============================] - 14s 11ms/step - loss: 0.3528 - auc: 0.9233 - val_loss: 0.3544 - val_auc: 0.9286\n",
      "Epoch 26/30\n",
      "1265/1265 [==============================] - 14s 11ms/step - loss: 0.3477 - auc: 0.9259 - val_loss: 0.3206 - val_auc: 0.9400\n",
      "Epoch 27/30\n",
      "1265/1265 [==============================] - 14s 11ms/step - loss: 0.3422 - auc: 0.9283 - val_loss: 0.3331 - val_auc: 0.9348\n",
      "Epoch 28/30\n",
      "1265/1265 [==============================] - 14s 11ms/step - loss: 0.3344 - auc: 0.9314 - val_loss: 0.3328 - val_auc: 0.9352\n",
      "Epoch 29/30\n",
      "1265/1265 [==============================] - 14s 11ms/step - loss: 0.3283 - auc: 0.9340 - val_loss: 0.3103 - val_auc: 0.9423\n",
      "Epoch 30/30\n",
      "1265/1265 [==============================] - 14s 11ms/step - loss: 0.3258 - auc: 0.9352 - val_loss: 0.3063 - val_auc: 0.9440\n"
     ]
    }
   ],
   "source": [
    "batch_size = 32\n",
    "num_batchs = math.ceil(len(training_set) / batch_size)\n",
    "num_batchs_validation = math.ceil(len(validation_set) / batch_size)\n",
    "hist = model.fit(\n",
    "    gen_batch(\n",
    "        training_set, batch_size=batch_size, repeat=True\n",
    "    ),\n",
    "    steps_per_epoch=num_batchs,\n",
    "    epochs=30,\n",
    "    validation_data=gen_batch(\n",
    "        validation_set, batch_size=32, repeat=True\n",
    "    ),\n",
    "    validation_steps=num_batchs_validation,\n",
    "    verbose=1\n",
    ")\n"
   ]
  },
  {
   "cell_type": "code",
   "execution_count": 57,
   "id": "5ef8423f",
   "metadata": {},
   "outputs": [
    {
     "name": "stdout",
     "output_type": "stream",
     "text": [
      "771/771 [==============================] - 3s 3ms/step\n"
     ]
    }
   ],
   "source": [
    "y_pred = model.predict(\n",
    "    gen_batch(testing_set, batch_size=16, shuffle=False)\n",
    ")\n",
    "y_pred = np.reshape(y_pred, -1)"
   ]
  },
  {
   "cell_type": "code",
   "execution_count": 58,
   "id": "02c809b3",
   "metadata": {},
   "outputs": [],
   "source": [
    "submission = pd.DataFrame({'label':y_pred})\n",
    "submission.index.name = 'id'\n",
    "submission.to_csv('Trial_2_1_temp.csv')\n",
    "\n",
    "#Kaggle 0.82645"
   ]
  },
  {
   "cell_type": "markdown",
   "id": "f4531d5b",
   "metadata": {},
   "source": [
    "## Trial_2.2 (GGNN)"
   ]
  },
  {
   "cell_type": "code",
   "execution_count": 75,
   "id": "df301977",
   "metadata": {},
   "outputs": [
    {
     "name": "stdout",
     "output_type": "stream",
     "text": [
      "gnn_out KerasTensor(type_spec=TensorSpec(shape=(None, 64), dtype=tf.float32, name=None), name='gnn_5/StatefulPartitionedCall:0', description=\"created by layer 'gnn_5'\")\n",
      "Model: \"model_5\"\n",
      "__________________________________________________________________________________________________\n",
      " Layer (type)                   Output Shape         Param #     Connected to                     \n",
      "==================================================================================================\n",
      " input_18 (InputLayer)          [(None,)]            0           []                               \n",
      "                                                                                                  \n",
      " input_16 (InputLayer)          [(None,)]            0           []                               \n",
      "                                                                                                  \n",
      " tf.math.reduce_max_5 (TFOpLamb  ()                  0           ['input_18[0][0]']               \n",
      " da)                                                                                              \n",
      "                                                                                                  \n",
      " embedding_5 (Embedding)        (None, 80)           40000       ['input_16[0][0]']               \n",
      "                                                                                                  \n",
      " input_17 (InputLayer)          [(None, 2)]          0           []                               \n",
      "                                                                                                  \n",
      " tf.__operators__.add_5 (TFOpLa  ()                  0           ['tf.math.reduce_max_5[0][0]']   \n",
      " mbda)                                                                                            \n",
      "                                                                                                  \n",
      " gnn_5 (GNN)                    (None, 64)           283136      ['embedding_5[0][0]',            \n",
      "                                                                  'input_17[0][0]',               \n",
      "                                                                  'input_18[0][0]',               \n",
      "                                                                  'tf.__operators__.add_5[0][0]'] \n",
      "                                                                                                  \n",
      " tf.math.segment_mean_5 (TFOpLa  (None, 64)          0           ['gnn_5[0][0]',                  \n",
      " mbda)                                                            'input_18[0][0]']               \n",
      "                                                                                                  \n",
      " dense_11 (Dense)               (None, 128)          8320        ['tf.math.segment_mean_5[0][0]'] \n",
      "                                                                                                  \n",
      " dense_12 (Dense)               (None, 64)           8256        ['dense_11[0][0]']               \n",
      "                                                                                                  \n",
      " dense_13 (Dense)               (None, 1)            65          ['dense_12[0][0]']               \n",
      "                                                                                                  \n",
      "==================================================================================================\n",
      "Total params: 339,777\n",
      "Trainable params: 339,777\n",
      "Non-trainable params: 0\n",
      "__________________________________________________________________________________________________\n"
     ]
    }
   ],
   "source": [
    "data = keras.Input(batch_shape=(None,))\n",
    "\n",
    "edge = keras.Input(batch_shape=(None, 2), dtype=tf.int32)\n",
    "node2graph = keras.Input(batch_shape=(None,), dtype=tf.int32)\n",
    "\n",
    "embeded = Embedding(tokenizer.num_words, 80)(data)\n",
    "\n",
    "num_graph = tf.reduce_max(node2graph)+1  \n",
    "\n",
    "gnn_input = GNNInput(\n",
    "    node_features=embeded,\n",
    "    adjacency_lists=(edge,),\n",
    "    node_to_graph_map=node2graph, \n",
    "    num_graphs=num_graph,\n",
    ")\n",
    "\n",
    "params = GNN.get_default_hyperparameters()\n",
    "params[\"message_calculation_class\"] = 'GGNN'\n",
    "params[\"hidden_dim\"] = 64\n",
    "params[\"num_layers\"] = 6\n",
    "\n",
    "\n",
    "gnn_layer = GNN(params) \n",
    "\n",
    "gnn_out = gnn_layer(gnn_input)\n",
    "\n",
    "print('gnn_out', gnn_out)           \n",
    "\n",
    "avg = segment_mean(\n",
    "    data=gnn_out,\n",
    "    segment_ids=node2graph\n",
    "    )\n",
    "\n",
    "l1 = Dense(128,activation='relu')(avg)\n",
    "l2 = Dense(64,activation='relu')(l1)\n",
    "pred = Dense(1, activation='sigmoid')(l2)\n",
    "\n",
    "\n",
    "model2 = Model(\n",
    "    inputs={\n",
    "        'data': data, \n",
    "        'edges': edge,\n",
    "        'node2grah': node2graph,\n",
    "    },\n",
    "    outputs=pred\n",
    ")\n",
    "model2.summary()"
   ]
  },
  {
   "cell_type": "code",
   "execution_count": 76,
   "id": "5ebe0ee3",
   "metadata": {},
   "outputs": [],
   "source": [
    "model2.compile(\n",
    "    optimizer = 'adam', \n",
    "    loss='BinaryCrossentropy',\n",
    "    metrics=['AUC']\n",
    ")"
   ]
  },
  {
   "cell_type": "code",
   "execution_count": 77,
   "id": "77289f64",
   "metadata": {},
   "outputs": [
    {
     "name": "stdout",
     "output_type": "stream",
     "text": [
      "Epoch 1/50\n",
      "633/633 [==============================] - 19s 25ms/step - loss: 0.6190 - auc: 0.7094 - val_loss: 0.5755 - val_auc: 0.7760\n",
      "Epoch 2/50\n",
      "633/633 [==============================] - 15s 24ms/step - loss: 0.5545 - auc: 0.7897 - val_loss: 0.5236 - val_auc: 0.8218\n",
      "Epoch 3/50\n",
      "633/633 [==============================] - 15s 24ms/step - loss: 0.5136 - auc: 0.8263 - val_loss: 0.4836 - val_auc: 0.8518\n",
      "Epoch 4/50\n",
      "633/633 [==============================] - 15s 24ms/step - loss: 0.4839 - auc: 0.8488 - val_loss: 0.4625 - val_auc: 0.8705\n",
      "Epoch 5/50\n",
      "633/633 [==============================] - 15s 24ms/step - loss: 0.4471 - auc: 0.8733 - val_loss: 0.4217 - val_auc: 0.8898\n",
      "Epoch 6/50\n",
      "633/633 [==============================] - 15s 24ms/step - loss: 0.4135 - auc: 0.8922 - val_loss: 0.3836 - val_auc: 0.9078\n",
      "Epoch 7/50\n",
      "633/633 [==============================] - 15s 24ms/step - loss: 0.3792 - auc: 0.9097 - val_loss: 0.3650 - val_auc: 0.9182\n",
      "Epoch 8/50\n",
      "633/633 [==============================] - 15s 24ms/step - loss: 0.3385 - auc: 0.9273 - val_loss: 0.3115 - val_auc: 0.9373\n",
      "Epoch 9/50\n",
      "633/633 [==============================] - 16s 25ms/step - loss: 0.3059 - auc: 0.9399 - val_loss: 0.2723 - val_auc: 0.9509\n",
      "Epoch 10/50\n",
      "633/633 [==============================] - 15s 24ms/step - loss: 0.2706 - auc: 0.9516 - val_loss: 0.2567 - val_auc: 0.9573\n",
      "Epoch 11/50\n",
      "633/633 [==============================] - 15s 24ms/step - loss: 0.2473 - auc: 0.9583 - val_loss: 0.2441 - val_auc: 0.9634\n",
      "Epoch 12/50\n",
      "633/633 [==============================] - 15s 24ms/step - loss: 0.2227 - auc: 0.9655 - val_loss: 0.2056 - val_auc: 0.9691\n",
      "Epoch 13/50\n",
      "633/633 [==============================] - 15s 24ms/step - loss: 0.1999 - auc: 0.9711 - val_loss: 0.2026 - val_auc: 0.9704\n",
      "Epoch 14/50\n",
      "633/633 [==============================] - 15s 24ms/step - loss: 0.1862 - auc: 0.9746 - val_loss: 0.1816 - val_auc: 0.9757\n",
      "Epoch 15/50\n",
      "633/633 [==============================] - 16s 25ms/step - loss: 0.1720 - auc: 0.9779 - val_loss: 0.1800 - val_auc: 0.9746\n",
      "Epoch 16/50\n",
      "633/633 [==============================] - 16s 25ms/step - loss: 0.1734 - auc: 0.9779 - val_loss: 0.1665 - val_auc: 0.9774\n",
      "Epoch 17/50\n",
      "633/633 [==============================] - 15s 24ms/step - loss: 0.1533 - auc: 0.9815 - val_loss: 0.1564 - val_auc: 0.9801\n",
      "Epoch 18/50\n",
      "633/633 [==============================] - 15s 24ms/step - loss: 0.1438 - auc: 0.9832 - val_loss: 0.1435 - val_auc: 0.9821\n",
      "Epoch 19/50\n",
      "633/633 [==============================] - 15s 24ms/step - loss: 0.1337 - auc: 0.9854 - val_loss: 0.1503 - val_auc: 0.9814\n",
      "Epoch 20/50\n",
      "633/633 [==============================] - 16s 25ms/step - loss: 0.1261 - auc: 0.9869 - val_loss: 0.1622 - val_auc: 0.9803\n",
      "Epoch 21/50\n",
      "633/633 [==============================] - 15s 24ms/step - loss: 0.1228 - auc: 0.9872 - val_loss: 0.1251 - val_auc: 0.9871\n",
      "Epoch 22/50\n",
      "633/633 [==============================] - 16s 25ms/step - loss: 0.1222 - auc: 0.9877 - val_loss: 0.1349 - val_auc: 0.9854\n",
      "Epoch 23/50\n",
      "633/633 [==============================] - 15s 24ms/step - loss: 0.1255 - auc: 0.9874 - val_loss: 0.1242 - val_auc: 0.9864\n",
      "Epoch 24/50\n",
      "633/633 [==============================] - 16s 25ms/step - loss: 0.1109 - auc: 0.9896 - val_loss: 0.1148 - val_auc: 0.9882\n",
      "Epoch 25/50\n",
      "633/633 [==============================] - 15s 24ms/step - loss: 0.1028 - auc: 0.9906 - val_loss: 0.1365 - val_auc: 0.9858\n",
      "Epoch 26/50\n",
      "633/633 [==============================] - 15s 24ms/step - loss: 0.0969 - auc: 0.9915 - val_loss: 0.1319 - val_auc: 0.9869\n",
      "Epoch 27/50\n",
      "633/633 [==============================] - ETA: 0s - loss: 0.0925 - auc: 0.9920Restoring model weights from the end of the best epoch: 24.\n",
      "633/633 [==============================] - 16s 25ms/step - loss: 0.0925 - auc: 0.9920 - val_loss: 0.1445 - val_auc: 0.9886\n",
      "Epoch 27: early stopping\n"
     ]
    }
   ],
   "source": [
    "batch_size = 64\n",
    "num_batchs = math.ceil(len(training_set) / batch_size)\n",
    "num_batchs_validation = math.ceil(len(validation_set) / batch_size)\n",
    "\n",
    "early_stop = EarlyStopping(monitor='val_loss', patience=3, verbose=1,restore_best_weights=True)\n",
    "\n",
    "hist = model2.fit(\n",
    "    gen_batch(\n",
    "        training_set, batch_size=batch_size, repeat=True\n",
    "    ),\n",
    "    steps_per_epoch=num_batchs,\n",
    "    epochs=50,\n",
    "    validation_data=gen_batch(\n",
    "        validation_set, batch_size=64, repeat=True\n",
    "    ),\n",
    "    validation_steps=num_batchs_validation,\n",
    "    verbose=1,callbacks=[early_stop]\n",
    ")\n"
   ]
  },
  {
   "cell_type": "code",
   "execution_count": 78,
   "id": "9a69fdd2",
   "metadata": {},
   "outputs": [
    {
     "name": "stdout",
     "output_type": "stream",
     "text": [
      "193/193 [==============================] - 2s 7ms/step\n"
     ]
    }
   ],
   "source": [
    "#make a prediction by using the model\n",
    "y_pred_2 = model2.predict(\n",
    "    gen_batch(testing_set, batch_size=64, shuffle=False)\n",
    ")\n",
    "y_pred_2 = np.reshape(y_pred_2, -1)"
   ]
  },
  {
   "cell_type": "code",
   "execution_count": 79,
   "id": "90f47161",
   "metadata": {},
   "outputs": [],
   "source": [
    "submission = pd.DataFrame({'label':y_pred_2})\n",
    "submission.index.name = 'id'\n",
    "submission.to_csv('trial_2_GGNN2noDrop.csv')"
   ]
  },
  {
   "cell_type": "markdown",
   "id": "c4278e1d",
   "metadata": {},
   "source": [
    "kaggle 0.86696 it did very well i think it still can do better with some tunning but i will try other mechanisms first then i will tune the best of them but first i want to try randomOverSample and see if it does better on same model"
   ]
  },
  {
   "cell_type": "markdown",
   "id": "85e928f9",
   "metadata": {},
   "source": [
    "# Trial 3.1 (randomOverSample)(GGNN)"
   ]
  },
  {
   "cell_type": "code",
   "execution_count": 81,
   "id": "71ee7f53",
   "metadata": {},
   "outputs": [
    {
     "data": {
      "application/vnd.jupyter.widget-view+json": {
       "model_id": "c9dad60bb0fa46719142131ab5e2793a",
       "version_major": 2,
       "version_minor": 0
      },
      "text/plain": [
       "  0%|          | 0/25024 [00:00<?, ?it/s]"
      ]
     },
     "metadata": {},
     "output_type": "display_data"
    }
   ],
   "source": [
    "training_set3 = read_sdf('train.sdf')"
   ]
  },
  {
   "cell_type": "code",
   "execution_count": 82,
   "id": "2f1e7d0c",
   "metadata": {},
   "outputs": [
    {
     "name": "stderr",
     "output_type": "stream",
     "text": [
      "C:\\Users\\lenovo\\AppData\\Local\\Temp\\ipykernel_20936\\2961470663.py:1: VisibleDeprecationWarning: Creating an ndarray from ragged nested sequences (which is a list-or-tuple of lists-or-tuples-or ndarrays with different lengths or shapes) is deprecated. If you meant to do this, you must specify 'dtype=object' when creating the ndarray.\n",
      "  unique, counts = np.unique(np.array(training_set3)[:,2], return_counts=True)\n"
     ]
    },
    {
     "data": {
      "image/png": "[encoded data removed]",
      "text/plain": [
       "<Figure size 640x480 with 1 Axes>"
      ]
     },
     "metadata": {},
     "output_type": "display_data"
    }
   ],
   "source": [
    "unique, counts = np.unique(np.array(training_set3)[:,2], return_counts=True)\n",
    "\n",
    "sns.barplot(x=unique, y=counts)\n",
    "plt.xlabel('target')\n",
    "plt.ylabel('Counts')\n",
    "plt.title('Counts of target')\n",
    "plt.show()"
   ]
  },
  {
   "cell_type": "code",
   "execution_count": 96,
   "id": "b4e11d31",
   "metadata": {},
   "outputs": [
    {
     "name": "stderr",
     "output_type": "stream",
     "text": [
      "C:\\Users\\lenovo\\AppData\\Local\\Temp\\ipykernel_20936\\833739829.py:2: VisibleDeprecationWarning: Creating an ndarray from ragged nested sequences (which is a list-or-tuple of lists-or-tuples-or ndarrays with different lengths or shapes) is deprecated. If you meant to do this, you must specify 'dtype=object' when creating the ndarray.\n",
      "  data2 = pd.DataFrame(np.array(training_set3)[:,:], columns = ['0', '1', 'target'])\n"
     ]
    }
   ],
   "source": [
    "#convert the data from List to DataFrame to make upsampling\n",
    "data2 = pd.DataFrame(np.array(training_set3)[:,:], columns = ['0', '1', 'target'])\n",
    "data2['target'] = data2['target'].astype(int)"
   ]
  },
  {
   "cell_type": "code",
   "execution_count": 97,
   "id": "a874b013",
   "metadata": {},
   "outputs": [],
   "source": [
    "from imblearn.over_sampling import RandomOverSampler\n",
    "\n",
    "ros = RandomOverSampler(random_state=42)\n",
    "resampling = data2.copy()\n",
    "X_resampled, y_resampled = ros.fit_resample(resampling.drop('target', axis=1), resampling['target'])\n",
    "data_upsampledR = pd.concat([X_resampled, y_resampled], axis=1)"
   ]
  },
  {
   "cell_type": "code",
   "execution_count": 98,
   "id": "6dbffab2",
   "metadata": {},
   "outputs": [
    {
     "data": {
      "text/plain": [
       "0    23806\n",
       "1    23806\n",
       "Name: target, dtype: int64"
      ]
     },
     "execution_count": 98,
     "metadata": {},
     "output_type": "execute_result"
    }
   ],
   "source": [
    "data_upsampled['target'].value_counts()"
   ]
  },
  {
   "cell_type": "code",
   "execution_count": 99,
   "id": "1441fe3d",
   "metadata": {},
   "outputs": [],
   "source": [
    "#converting the upsampled DataFrame into list\n",
    "training_set3 = data_upsampled.values.tolist()"
   ]
  },
  {
   "cell_type": "code",
   "execution_count": 100,
   "id": "13bc5578",
   "metadata": {},
   "outputs": [],
   "source": [
    "training_set3, validation_set3 = train_test_split(training_set3, test_size=0.15)"
   ]
  },
  {
   "cell_type": "code",
   "execution_count": 101,
   "id": "85ab6646",
   "metadata": {},
   "outputs": [],
   "source": [
    "#vocabulary size\n",
    "max_vocab = 500\n",
    "# maximum length of the tokenized vector\n",
    "max_len = 100 \n",
    "\n",
    "# build vocabulary from training set only for nodes characters\n",
    "all_nodes3 = [s[0] for s in training_set3]\n",
    "\n",
    "#training tokenizer\n",
    "tokenizer3 = Tokenizer(num_words = max_vocab)\n",
    "tokenizer3.fit_on_texts(all_nodes)"
   ]
  },
  {
   "cell_type": "code",
   "execution_count": 102,
   "id": "f518b05e",
   "metadata": {},
   "outputs": [
    {
     "name": "stdout",
     "output_type": "stream",
     "text": [
      "gnn_out KerasTensor(type_spec=TensorSpec(shape=(None, 64), dtype=tf.float32, name=None), name='gnn_6/StatefulPartitionedCall:0', description=\"created by layer 'gnn_6'\")\n",
      "Model: \"model_6\"\n",
      "__________________________________________________________________________________________________\n",
      " Layer (type)                   Output Shape         Param #     Connected to                     \n",
      "==================================================================================================\n",
      " input_21 (InputLayer)          [(None,)]            0           []                               \n",
      "                                                                                                  \n",
      " input_19 (InputLayer)          [(None,)]            0           []                               \n",
      "                                                                                                  \n",
      " tf.math.reduce_max_6 (TFOpLamb  ()                  0           ['input_21[0][0]']               \n",
      " da)                                                                                              \n",
      "                                                                                                  \n",
      " embedding_6 (Embedding)        (None, 80)           40000       ['input_19[0][0]']               \n",
      "                                                                                                  \n",
      " input_20 (InputLayer)          [(None, 2)]          0           []                               \n",
      "                                                                                                  \n",
      " tf.__operators__.add_6 (TFOpLa  ()                  0           ['tf.math.reduce_max_6[0][0]']   \n",
      " mbda)                                                                                            \n",
      "                                                                                                  \n",
      " gnn_6 (GNN)                    (None, 64)           283136      ['embedding_6[0][0]',            \n",
      "                                                                  'input_20[0][0]',               \n",
      "                                                                  'input_21[0][0]',               \n",
      "                                                                  'tf.__operators__.add_6[0][0]'] \n",
      "                                                                                                  \n",
      " tf.math.segment_mean_6 (TFOpLa  (None, 64)          0           ['gnn_6[0][0]',                  \n",
      " mbda)                                                            'input_21[0][0]']               \n",
      "                                                                                                  \n",
      " dense_14 (Dense)               (None, 128)          8320        ['tf.math.segment_mean_6[0][0]'] \n",
      "                                                                                                  \n",
      " dense_15 (Dense)               (None, 64)           8256        ['dense_14[0][0]']               \n",
      "                                                                                                  \n",
      " dense_16 (Dense)               (None, 1)            65          ['dense_15[0][0]']               \n",
      "                                                                                                  \n",
      "==================================================================================================\n",
      "Total params: 339,777\n",
      "Trainable params: 339,777\n",
      "Non-trainable params: 0\n",
      "__________________________________________________________________________________________________\n"
     ]
    }
   ],
   "source": [
    "data = keras.Input(batch_shape=(None,))\n",
    "\n",
    "edge = keras.Input(batch_shape=(None, 2), dtype=tf.int32)\n",
    "node2graph = keras.Input(batch_shape=(None,), dtype=tf.int32)\n",
    "\n",
    "embeded = Embedding(tokenizer3.num_words, 80)(data)\n",
    "\n",
    "num_graph = tf.reduce_max(node2graph)+1  \n",
    "\n",
    "gnn_input = GNNInput(\n",
    "    node_features=embeded,\n",
    "    adjacency_lists=(edge,),\n",
    "    node_to_graph_map=node2graph, \n",
    "    num_graphs=num_graph,\n",
    ")\n",
    "\n",
    "params = GNN.get_default_hyperparameters()\n",
    "params[\"message_calculation_class\"] = 'GGNN'\n",
    "params[\"hidden_dim\"] = 64\n",
    "params[\"num_layers\"] = 6\n",
    "\n",
    "\n",
    "gnn_layer = GNN(params) \n",
    "\n",
    "gnn_out = gnn_layer(gnn_input)\n",
    "\n",
    "print('gnn_out', gnn_out)           \n",
    "\n",
    "avg = segment_mean(\n",
    "    data=gnn_out,\n",
    "    segment_ids=node2graph\n",
    "    )\n",
    "\n",
    "l1 = Dense(128,activation='relu')(avg)\n",
    "l2 = Dense(64,activation='relu')(l1)\n",
    "pred = Dense(1, activation='sigmoid')(l2)\n",
    "\n",
    "\n",
    "model3 = Model(\n",
    "    inputs={\n",
    "        'data': data, \n",
    "        'edges': edge,\n",
    "        'node2grah': node2graph,\n",
    "    },\n",
    "    outputs=pred\n",
    ")\n",
    "model3.summary()"
   ]
  },
  {
   "cell_type": "code",
   "execution_count": 103,
   "id": "f0308b41",
   "metadata": {},
   "outputs": [],
   "source": [
    "model3.compile(\n",
    "    optimizer = 'adam', \n",
    "    loss='BinaryCrossentropy',\n",
    "    metrics=['AUC']\n",
    ")"
   ]
  },
  {
   "cell_type": "code",
   "execution_count": 115,
   "id": "90fc4427",
   "metadata": {},
   "outputs": [
    {
     "name": "stdout",
     "output_type": "stream",
     "text": [
      "Epoch 1/50\n",
      "633/633 [==============================] - 17s 26ms/step - loss: 0.0372 - auc: 0.9979 - val_loss: 0.0800 - val_auc: 0.9924 - lr: 1.0000e-04\n",
      "Epoch 2/50\n",
      "633/633 [==============================] - 16s 25ms/step - loss: 0.0366 - auc: 0.9980 - val_loss: 0.0796 - val_auc: 0.9924 - lr: 1.0000e-04\n",
      "Epoch 3/50\n",
      "633/633 [==============================] - 16s 25ms/step - loss: 0.0359 - auc: 0.9981 - val_loss: 0.0824 - val_auc: 0.9922 - lr: 1.0000e-04\n",
      "Epoch 4/50\n",
      "633/633 [==============================] - 16s 25ms/step - loss: 0.0334 - auc: 0.9983 - val_loss: 0.0739 - val_auc: 0.9931 - lr: 1.0000e-04\n",
      "Epoch 5/50\n",
      "633/633 [==============================] - 16s 25ms/step - loss: 0.0344 - auc: 0.9982 - val_loss: 0.0772 - val_auc: 0.9926 - lr: 1.0000e-04\n",
      "Epoch 6/50\n",
      "633/633 [==============================] - ETA: 0s - loss: 0.0340 - auc: 0.9982\n",
      "Epoch 6: ReduceLROnPlateau reducing learning rate to 5e-05.\n",
      "633/633 [==============================] - 16s 25ms/step - loss: 0.0340 - auc: 0.9982 - val_loss: 0.0807 - val_auc: 0.9922 - lr: 1.0000e-04\n",
      "Epoch 7/50\n",
      "633/633 [==============================] - 16s 25ms/step - loss: 0.0312 - auc: 0.9985 - val_loss: 0.0790 - val_auc: 0.9928 - lr: 5.0000e-05\n",
      "Epoch 8/50\n",
      "633/633 [==============================] - 16s 25ms/step - loss: 0.0304 - auc: 0.9984 - val_loss: 0.0750 - val_auc: 0.9929 - lr: 5.0000e-05\n",
      "Epoch 9/50\n",
      "633/633 [==============================] - ETA: 0s - loss: 0.0296 - auc: 0.9987Restoring model weights from the end of the best epoch: 4.\n",
      "633/633 [==============================] - 16s 25ms/step - loss: 0.0296 - auc: 0.9987 - val_loss: 0.0809 - val_auc: 0.9923 - lr: 5.0000e-05\n",
      "Epoch 9: early stopping\n"
     ]
    }
   ],
   "source": [
    "batch_size = 64\n",
    "num_batchs = math.ceil(len(training_set3) / batch_size)\n",
    "num_batchs_validation = math.ceil(len(validation_set3) / batch_size)\n",
    "\n",
    "early_stop = EarlyStopping(monitor='val_loss', patience=5, verbose=1,restore_best_weights=True)\n",
    "reduce_lr = ReduceLROnPlateau(monitor='val_loss', factor=0.2, patience=2, verbose=1, min_lr=0.00005)\n",
    "hist = model3.fit(\n",
    "    gen_batch(\n",
    "        training_set3, batch_size=batch_size, repeat=True\n",
    "    ),\n",
    "    steps_per_epoch=num_batchs,\n",
    "    epochs=50,\n",
    "    validation_data=gen_batch(\n",
    "        validation_set3, batch_size=64, repeat=True\n",
    "    ),\n",
    "    validation_steps=num_batchs_validation,\n",
    "    verbose=1,callbacks=[early_stop, reduce_lr]\n",
    ")\n"
   ]
  },
  {
   "cell_type": "code",
   "execution_count": 116,
   "id": "84cc2e32",
   "metadata": {},
   "outputs": [
    {
     "name": "stdout",
     "output_type": "stream",
     "text": [
      "193/193 [==============================] - 2s 8ms/step\n"
     ]
    }
   ],
   "source": [
    "#make a prediction by using the model\n",
    "y_pred_3 = model3.predict(\n",
    "    gen_batch(testing_set, batch_size=64, shuffle=False)\n",
    ")\n",
    "y_pred_3 = np.reshape(y_pred_3, -1)"
   ]
  },
  {
   "cell_type": "code",
   "execution_count": 117,
   "id": "d6037413",
   "metadata": {},
   "outputs": [],
   "source": [
    "submission = pd.DataFrame({'label':y_pred_3})\n",
    "submission.index.name = 'id'\n",
    "submission.to_csv('trial_3_GGNNRandomLastlll.csv')"
   ]
  },
  {
   "cell_type": "markdown",
   "id": "0055451c",
   "metadata": {},
   "source": [
    "it was better on kaggle and got 0.87858 so i decided to go with randomOversample and try different mechanisms"
   ]
  },
  {
   "cell_type": "markdown",
   "id": "54d5129d",
   "metadata": {},
   "source": [
    "# Trial 3.2 (randomOverSample)(RGCN)"
   ]
  },
  {
   "cell_type": "code",
   "execution_count": 118,
   "id": "258ceebb",
   "metadata": {},
   "outputs": [
    {
     "name": "stdout",
     "output_type": "stream",
     "text": [
      "gnn_out KerasTensor(type_spec=TensorSpec(shape=(None, 64), dtype=tf.float32, name=None), name='gnn_7/StatefulPartitionedCall:0', description=\"created by layer 'gnn_7'\")\n",
      "Model: \"model_7\"\n",
      "__________________________________________________________________________________________________\n",
      " Layer (type)                   Output Shape         Param #     Connected to                     \n",
      "==================================================================================================\n",
      " input_24 (InputLayer)          [(None,)]            0           []                               \n",
      "                                                                                                  \n",
      " input_22 (InputLayer)          [(None,)]            0           []                               \n",
      "                                                                                                  \n",
      " tf.math.reduce_max_7 (TFOpLamb  ()                  0           ['input_24[0][0]']               \n",
      " da)                                                                                              \n",
      "                                                                                                  \n",
      " embedding_7 (Embedding)        (None, 80)           40000       ['input_22[0][0]']               \n",
      "                                                                                                  \n",
      " input_23 (InputLayer)          [(None, 2)]          0           []                               \n",
      "                                                                                                  \n",
      " tf.__operators__.add_7 (TFOpLa  ()                  0           ['tf.math.reduce_max_7[0][0]']   \n",
      " mbda)                                                                                            \n",
      "                                                                                                  \n",
      " gnn_7 (GNN)                    (None, 64)           133376      ['embedding_7[0][0]',            \n",
      "                                                                  'input_23[0][0]',               \n",
      "                                                                  'input_24[0][0]',               \n",
      "                                                                  'tf.__operators__.add_7[0][0]'] \n",
      "                                                                                                  \n",
      " tf.math.segment_mean_7 (TFOpLa  (None, 64)          0           ['gnn_7[0][0]',                  \n",
      " mbda)                                                            'input_24[0][0]']               \n",
      "                                                                                                  \n",
      " dense_17 (Dense)               (None, 128)          8320        ['tf.math.segment_mean_7[0][0]'] \n",
      "                                                                                                  \n",
      " dense_18 (Dense)               (None, 64)           8256        ['dense_17[0][0]']               \n",
      "                                                                                                  \n",
      " dense_19 (Dense)               (None, 1)            65          ['dense_18[0][0]']               \n",
      "                                                                                                  \n",
      "==================================================================================================\n",
      "Total params: 190,017\n",
      "Trainable params: 190,017\n",
      "Non-trainable params: 0\n",
      "__________________________________________________________________________________________________\n"
     ]
    }
   ],
   "source": [
    "data = keras.Input(batch_shape=(None,))\n",
    "\n",
    "edge = keras.Input(batch_shape=(None, 2), dtype=tf.int32)\n",
    "node2graph = keras.Input(batch_shape=(None,), dtype=tf.int32)\n",
    "\n",
    "embeded = Embedding(tokenizer3.num_words, 80)(data)\n",
    "\n",
    "num_graph = tf.reduce_max(node2graph)+1  \n",
    "\n",
    "gnn_input = GNNInput(\n",
    "    node_features=embeded,\n",
    "    adjacency_lists=(edge,),\n",
    "    node_to_graph_map=node2graph, \n",
    "    num_graphs=num_graph,\n",
    ")\n",
    "\n",
    "params = GNN.get_default_hyperparameters()\n",
    "params[\"message_calculation_class\"] = 'RGCN'\n",
    "params[\"hidden_dim\"] = 64\n",
    "params[\"num_layers\"] = 6\n",
    "\n",
    "\n",
    "gnn_layer = GNN(params) \n",
    "\n",
    "gnn_out = gnn_layer(gnn_input)\n",
    "\n",
    "print('gnn_out', gnn_out)           \n",
    "\n",
    "avg = segment_mean(\n",
    "    data=gnn_out,\n",
    "    segment_ids=node2graph\n",
    "    )\n",
    "\n",
    "l1 = Dense(128,activation='relu')(avg)\n",
    "l2 = Dense(64,activation='relu')(l1)\n",
    "pred = Dense(1, activation='sigmoid')(l2)\n",
    "\n",
    "\n",
    "model4 = Model(\n",
    "    inputs={\n",
    "        'data': data, \n",
    "        'edges': edge,\n",
    "        'node2grah': node2graph,\n",
    "    },\n",
    "    outputs=pred\n",
    ")\n",
    "model4.summary()"
   ]
  },
  {
   "cell_type": "code",
   "execution_count": 119,
   "id": "d878d41e",
   "metadata": {},
   "outputs": [],
   "source": [
    "model4.compile(\n",
    "    optimizer = 'adam', \n",
    "    loss='BinaryCrossentropy',\n",
    "    metrics=['AUC']\n",
    ")"
   ]
  },
  {
   "cell_type": "code",
   "execution_count": 120,
   "id": "0f1b7f50",
   "metadata": {},
   "outputs": [
    {
     "name": "stdout",
     "output_type": "stream",
     "text": [
      "Epoch 1/50\n"
     ]
    },
    {
     "name": "stderr",
     "output_type": "stream",
     "text": [
      "C:\\Users\\lenovo\\AppData\\Roaming\\Python\\Python39\\site-packages\\tensorflow\\python\\framework\\indexed_slices.py:444: UserWarning: Converting sparse IndexedSlices(IndexedSlices(indices=Tensor(\"gradients/cond_5_grad/Identity_1:0\", shape=(None,), dtype=int32), values=Tensor(\"gradients/cond_5_grad/Identity:0\", shape=(None, 64), dtype=float32), dense_shape=Tensor(\"gradients/cond_5_grad/Identity_2:0\", shape=(2,), dtype=int32))) to a dense Tensor of unknown shape. This may consume a large amount of memory.\n",
      "  warnings.warn(\n",
      "C:\\Users\\lenovo\\AppData\\Roaming\\Python\\Python39\\site-packages\\tensorflow\\python\\framework\\indexed_slices.py:444: UserWarning: Converting sparse IndexedSlices(IndexedSlices(indices=Tensor(\"gradients/rgcn_4/embedding_lookup_grad/Reshape_1:0\", shape=(None,), dtype=int32), values=Tensor(\"gradients/rgcn_4/embedding_lookup_grad/Reshape:0\", shape=(None, 64), dtype=float32), dense_shape=Tensor(\"gradients/rgcn_4/embedding_lookup_grad/Cast:0\", shape=(2,), dtype=int32))) to a dense Tensor of unknown shape. This may consume a large amount of memory.\n",
      "  warnings.warn(\n",
      "C:\\Users\\lenovo\\AppData\\Roaming\\Python\\Python39\\site-packages\\tensorflow\\python\\framework\\indexed_slices.py:444: UserWarning: Converting sparse IndexedSlices(IndexedSlices(indices=Tensor(\"gradients/cond_3_grad/Identity_1:0\", shape=(None,), dtype=int32), values=Tensor(\"gradients/cond_3_grad/Identity:0\", shape=(None, 64), dtype=float32), dense_shape=Tensor(\"gradients/cond_3_grad/Identity_2:0\", shape=(2,), dtype=int32))) to a dense Tensor of unknown shape. This may consume a large amount of memory.\n",
      "  warnings.warn(\n",
      "C:\\Users\\lenovo\\AppData\\Roaming\\Python\\Python39\\site-packages\\tensorflow\\python\\framework\\indexed_slices.py:444: UserWarning: Converting sparse IndexedSlices(IndexedSlices(indices=Tensor(\"gradients/rgcn_2/embedding_lookup_grad/Reshape_1:0\", shape=(None,), dtype=int32), values=Tensor(\"gradients/rgcn_2/embedding_lookup_grad/Reshape:0\", shape=(None, 64), dtype=float32), dense_shape=Tensor(\"gradients/rgcn_2/embedding_lookup_grad/Cast:0\", shape=(2,), dtype=int32))) to a dense Tensor of unknown shape. This may consume a large amount of memory.\n",
      "  warnings.warn(\n",
      "C:\\Users\\lenovo\\AppData\\Roaming\\Python\\Python39\\site-packages\\tensorflow\\python\\framework\\indexed_slices.py:444: UserWarning: Converting sparse IndexedSlices(IndexedSlices(indices=Tensor(\"gradients/cond_1_grad/Identity_1:0\", shape=(None,), dtype=int32), values=Tensor(\"gradients/cond_1_grad/Identity:0\", shape=(None, 64), dtype=float32), dense_shape=Tensor(\"gradients/cond_1_grad/Identity_2:0\", shape=(2,), dtype=int32))) to a dense Tensor of unknown shape. This may consume a large amount of memory.\n",
      "  warnings.warn(\n",
      "C:\\Users\\lenovo\\AppData\\Roaming\\Python\\Python39\\site-packages\\tensorflow\\python\\framework\\indexed_slices.py:444: UserWarning: Converting sparse IndexedSlices(IndexedSlices(indices=Tensor(\"gradients/rgcn/embedding_lookup_grad/Reshape_1:0\", shape=(None,), dtype=int32), values=Tensor(\"gradients/rgcn/embedding_lookup_grad/Reshape:0\", shape=(None, 64), dtype=float32), dense_shape=Tensor(\"gradients/rgcn/embedding_lookup_grad/Cast:0\", shape=(2,), dtype=int32))) to a dense Tensor of unknown shape. This may consume a large amount of memory.\n",
      "  warnings.warn(\n"
     ]
    },
    {
     "name": "stdout",
     "output_type": "stream",
     "text": [
      "633/633 [==============================] - 15s 20ms/step - loss: 0.6221 - auc: 0.7061 - val_loss: 0.5862 - val_auc: 0.7535 - lr: 0.0010\n",
      "Epoch 2/50\n",
      "633/633 [==============================] - 12s 19ms/step - loss: 0.5889 - auc: 0.7481 - val_loss: 0.5504 - val_auc: 0.7894 - lr: 0.0010\n",
      "Epoch 3/50\n",
      "633/633 [==============================] - 12s 19ms/step - loss: 0.5666 - auc: 0.7724 - val_loss: 0.5363 - val_auc: 0.8035 - lr: 0.0010\n",
      "Epoch 4/50\n",
      "633/633 [==============================] - 11s 18ms/step - loss: 0.5493 - auc: 0.7912 - val_loss: 0.5303 - val_auc: 0.8116 - lr: 0.0010\n",
      "Epoch 5/50\n",
      "633/633 [==============================] - 12s 18ms/step - loss: 0.5367 - auc: 0.8026 - val_loss: 0.5086 - val_auc: 0.8269 - lr: 0.0010\n",
      "Epoch 6/50\n",
      "633/633 [==============================] - 12s 19ms/step - loss: 0.5252 - auc: 0.8137 - val_loss: 0.5137 - val_auc: 0.8341 - lr: 0.0010\n",
      "Epoch 7/50\n",
      "633/633 [==============================] - 11s 18ms/step - loss: 0.5175 - auc: 0.8216 - val_loss: 0.5003 - val_auc: 0.8376 - lr: 0.0010\n",
      "Epoch 8/50\n",
      "633/633 [==============================] - 11s 18ms/step - loss: 0.5038 - auc: 0.8328 - val_loss: 0.4789 - val_auc: 0.8560 - lr: 0.0010\n",
      "Epoch 9/50\n",
      "633/633 [==============================] - 11s 18ms/step - loss: 0.4892 - auc: 0.8439 - val_loss: 0.4599 - val_auc: 0.8636 - lr: 0.0010\n",
      "Epoch 10/50\n",
      "633/633 [==============================] - 11s 18ms/step - loss: 0.4710 - auc: 0.8566 - val_loss: 0.4401 - val_auc: 0.8783 - lr: 0.0010\n",
      "Epoch 11/50\n",
      "633/633 [==============================] - 12s 19ms/step - loss: 0.4586 - auc: 0.8651 - val_loss: 0.4430 - val_auc: 0.8850 - lr: 0.0010\n",
      "Epoch 12/50\n",
      "633/633 [==============================] - 12s 19ms/step - loss: 0.4422 - auc: 0.8756 - val_loss: 0.4157 - val_auc: 0.8923 - lr: 0.0010\n",
      "Epoch 13/50\n",
      "633/633 [==============================] - 11s 18ms/step - loss: 0.4265 - auc: 0.8850 - val_loss: 0.3892 - val_auc: 0.9060 - lr: 0.0010\n",
      "Epoch 14/50\n",
      "633/633 [==============================] - 12s 19ms/step - loss: 0.4177 - auc: 0.8897 - val_loss: 0.3843 - val_auc: 0.9080 - lr: 0.0010\n",
      "Epoch 15/50\n",
      "633/633 [==============================] - 12s 19ms/step - loss: 0.4027 - auc: 0.8978 - val_loss: 0.3636 - val_auc: 0.9176 - lr: 0.0010\n",
      "Epoch 16/50\n",
      "633/633 [==============================] - 12s 19ms/step - loss: 0.3905 - auc: 0.9042 - val_loss: 0.3623 - val_auc: 0.9196 - lr: 0.0010\n",
      "Epoch 17/50\n",
      "633/633 [==============================] - 11s 18ms/step - loss: 0.3768 - auc: 0.9111 - val_loss: 0.3488 - val_auc: 0.9269 - lr: 0.0010\n",
      "Epoch 18/50\n",
      "633/633 [==============================] - 12s 18ms/step - loss: 0.3625 - auc: 0.9179 - val_loss: 0.3267 - val_auc: 0.9344 - lr: 0.0010\n",
      "Epoch 19/50\n",
      "633/633 [==============================] - 12s 19ms/step - loss: 0.3511 - auc: 0.9230 - val_loss: 0.3371 - val_auc: 0.9332 - lr: 0.0010\n",
      "Epoch 20/50\n",
      "633/633 [==============================] - 12s 18ms/step - loss: 0.3446 - auc: 0.9259 - val_loss: 0.3058 - val_auc: 0.9419 - lr: 0.0010\n",
      "Epoch 21/50\n",
      "633/633 [==============================] - 12s 18ms/step - loss: 0.3346 - auc: 0.9303 - val_loss: 0.3183 - val_auc: 0.9410 - lr: 0.0010\n",
      "Epoch 22/50\n",
      "633/633 [==============================] - 12s 19ms/step - loss: 0.3212 - auc: 0.9355 - val_loss: 0.2799 - val_auc: 0.9503 - lr: 0.0010\n",
      "Epoch 23/50\n",
      "633/633 [==============================] - 12s 20ms/step - loss: 0.3145 - auc: 0.9385 - val_loss: 0.2832 - val_auc: 0.9498 - lr: 0.0010\n",
      "Epoch 24/50\n",
      "633/633 [==============================] - ETA: 0s - loss: 0.3046 - auc: 0.9422\n",
      "Epoch 24: ReduceLROnPlateau reducing learning rate to 0.00020000000949949026.\n",
      "633/633 [==============================] - 12s 19ms/step - loss: 0.3046 - auc: 0.9422 - val_loss: 0.2827 - val_auc: 0.9502 - lr: 0.0010\n",
      "Epoch 25/50\n",
      "633/633 [==============================] - 12s 19ms/step - loss: 0.2594 - auc: 0.9576 - val_loss: 0.2486 - val_auc: 0.9631 - lr: 2.0000e-04\n",
      "Epoch 26/50\n",
      "633/633 [==============================] - 12s 19ms/step - loss: 0.2490 - auc: 0.9606 - val_loss: 0.2281 - val_auc: 0.9672 - lr: 2.0000e-04\n",
      "Epoch 27/50\n",
      "633/633 [==============================] - 12s 18ms/step - loss: 0.2412 - auc: 0.9630 - val_loss: 0.2296 - val_auc: 0.9671 - lr: 2.0000e-04\n",
      "Epoch 28/50\n",
      "633/633 [==============================] - 12s 19ms/step - loss: 0.2390 - auc: 0.9634 - val_loss: 0.2189 - val_auc: 0.9687 - lr: 2.0000e-04\n",
      "Epoch 29/50\n",
      "633/633 [==============================] - 12s 19ms/step - loss: 0.2355 - auc: 0.9645 - val_loss: 0.2268 - val_auc: 0.9684 - lr: 2.0000e-04\n",
      "Epoch 30/50\n",
      "633/633 [==============================] - ETA: 0s - loss: 0.2277 - auc: 0.9666\n",
      "Epoch 30: ReduceLROnPlateau reducing learning rate to 5e-05.\n",
      "633/633 [==============================] - 12s 19ms/step - loss: 0.2277 - auc: 0.9666 - val_loss: 0.2257 - val_auc: 0.9687 - lr: 2.0000e-04\n",
      "Epoch 31/50\n",
      "633/633 [==============================] - 11s 18ms/step - loss: 0.2201 - auc: 0.9689 - val_loss: 0.2054 - val_auc: 0.9733 - lr: 5.0000e-05\n",
      "Epoch 32/50\n",
      "633/633 [==============================] - 11s 18ms/step - loss: 0.2187 - auc: 0.9694 - val_loss: 0.2119 - val_auc: 0.9730 - lr: 5.0000e-05\n",
      "Epoch 33/50\n",
      "633/633 [==============================] - 12s 19ms/step - loss: 0.2165 - auc: 0.9700 - val_loss: 0.2177 - val_auc: 0.9699 - lr: 5.0000e-05\n",
      "Epoch 34/50\n",
      "633/633 [==============================] - 12s 18ms/step - loss: 0.2132 - auc: 0.9706 - val_loss: 0.2039 - val_auc: 0.9743 - lr: 5.0000e-05\n",
      "Epoch 35/50\n",
      "633/633 [==============================] - 11s 18ms/step - loss: 0.2129 - auc: 0.9706 - val_loss: 0.2157 - val_auc: 0.9729 - lr: 5.0000e-05\n",
      "Epoch 36/50\n",
      "633/633 [==============================] - 11s 18ms/step - loss: 0.2116 - auc: 0.9710 - val_loss: 0.2026 - val_auc: 0.9733 - lr: 5.0000e-05\n",
      "Epoch 37/50\n",
      "633/633 [==============================] - 11s 17ms/step - loss: 0.2119 - auc: 0.9708 - val_loss: 0.2145 - val_auc: 0.9716 - lr: 5.0000e-05\n",
      "Epoch 38/50\n",
      "633/633 [==============================] - 11s 18ms/step - loss: 0.2102 - auc: 0.9712 - val_loss: 0.1958 - val_auc: 0.9754 - lr: 5.0000e-05\n",
      "Epoch 39/50\n",
      "633/633 [==============================] - 12s 19ms/step - loss: 0.2094 - auc: 0.9716 - val_loss: 0.2092 - val_auc: 0.9720 - lr: 5.0000e-05\n",
      "Epoch 40/50\n",
      "633/633 [==============================] - 12s 19ms/step - loss: 0.2095 - auc: 0.9713 - val_loss: 0.2039 - val_auc: 0.9744 - lr: 5.0000e-05\n",
      "Epoch 41/50\n",
      "633/633 [==============================] - 11s 18ms/step - loss: 0.2059 - auc: 0.9725 - val_loss: 0.2022 - val_auc: 0.9734 - lr: 5.0000e-05\n",
      "Epoch 42/50\n",
      "633/633 [==============================] - 11s 18ms/step - loss: 0.2095 - auc: 0.9714 - val_loss: 0.1972 - val_auc: 0.9764 - lr: 5.0000e-05\n",
      "Epoch 43/50\n",
      "633/633 [==============================] - ETA: 0s - loss: 0.2056 - auc: 0.9725Restoring model weights from the end of the best epoch: 38.\n",
      "633/633 [==============================] - 12s 19ms/step - loss: 0.2056 - auc: 0.9725 - val_loss: 0.1994 - val_auc: 0.9740 - lr: 5.0000e-05\n",
      "Epoch 43: early stopping\n"
     ]
    }
   ],
   "source": [
    "batch_size = 64\n",
    "num_batchs = math.ceil(len(training_set3) / batch_size)\n",
    "num_batchs_validation = math.ceil(len(validation_set3) / batch_size)\n",
    "\n",
    "early_stop = EarlyStopping(monitor='val_loss', patience=5, verbose=1,restore_best_weights=True)\n",
    "reduce_lr = ReduceLROnPlateau(monitor='val_loss', factor=0.2, patience=2, verbose=1, min_lr=0.00005)\n",
    "hist = model4.fit(\n",
    "    gen_batch(\n",
    "        training_set3, batch_size=batch_size, repeat=True\n",
    "    ),\n",
    "    steps_per_epoch=num_batchs,\n",
    "    epochs=50,\n",
    "    validation_data=gen_batch(\n",
    "        validation_set3, batch_size=64, repeat=True\n",
    "    ),\n",
    "    validation_steps=num_batchs_validation,\n",
    "    verbose=1,callbacks=[early_stop, reduce_lr]\n",
    ")\n"
   ]
  },
  {
   "cell_type": "markdown",
   "id": "eab04b47",
   "metadata": {},
   "source": [
    "good but not better than ggnn"
   ]
  },
  {
   "cell_type": "markdown",
   "id": "0127a5eb",
   "metadata": {},
   "source": [
    "# Trial 3.3 (randomOverSample)(RGAT)"
   ]
  },
  {
   "cell_type": "code",
   "execution_count": 122,
   "id": "eaf10a91",
   "metadata": {},
   "outputs": [
    {
     "name": "stdout",
     "output_type": "stream",
     "text": [
      "gnn_out KerasTensor(type_spec=TensorSpec(shape=(None, 64), dtype=tf.float32, name=None), name='gnn_9/StatefulPartitionedCall:0', description=\"created by layer 'gnn_9'\")\n",
      "Model: \"model_8\"\n",
      "__________________________________________________________________________________________________\n",
      " Layer (type)                   Output Shape         Param #     Connected to                     \n",
      "==================================================================================================\n",
      " input_30 (InputLayer)          [(None,)]            0           []                               \n",
      "                                                                                                  \n",
      " input_28 (InputLayer)          [(None,)]            0           []                               \n",
      "                                                                                                  \n",
      " tf.math.reduce_max_9 (TFOpLamb  ()                  0           ['input_30[0][0]']               \n",
      " da)                                                                                              \n",
      "                                                                                                  \n",
      " embedding_9 (Embedding)        (None, 80)           40000       ['input_28[0][0]']               \n",
      "                                                                                                  \n",
      " input_29 (InputLayer)          [(None, 2)]          0           []                               \n",
      "                                                                                                  \n",
      " tf.__operators__.add_9 (TFOpLa  ()                  0           ['tf.math.reduce_max_9[0][0]']   \n",
      " mbda)                                                                                            \n",
      "                                                                                                  \n",
      " gnn_9 (GNN)                    (None, 64)           134144      ['embedding_9[0][0]',            \n",
      "                                                                  'input_29[0][0]',               \n",
      "                                                                  'input_30[0][0]',               \n",
      "                                                                  'tf.__operators__.add_9[0][0]'] \n",
      "                                                                                                  \n",
      " tf.math.segment_mean_8 (TFOpLa  (None, 64)          0           ['gnn_9[0][0]',                  \n",
      " mbda)                                                            'input_30[0][0]']               \n",
      "                                                                                                  \n",
      " dense_20 (Dense)               (None, 128)          8320        ['tf.math.segment_mean_8[0][0]'] \n",
      "                                                                                                  \n",
      " dense_21 (Dense)               (None, 64)           8256        ['dense_20[0][0]']               \n",
      "                                                                                                  \n",
      " dense_22 (Dense)               (None, 1)            65          ['dense_21[0][0]']               \n",
      "                                                                                                  \n",
      "==================================================================================================\n",
      "Total params: 190,785\n",
      "Trainable params: 190,785\n",
      "Non-trainable params: 0\n",
      "__________________________________________________________________________________________________\n"
     ]
    }
   ],
   "source": [
    "data = keras.Input(batch_shape=(None,))\n",
    "\n",
    "edge = keras.Input(batch_shape=(None, 2), dtype=tf.int32)\n",
    "node2graph = keras.Input(batch_shape=(None,), dtype=tf.int32)\n",
    "\n",
    "embeded = Embedding(tokenizer3.num_words, 80)(data)\n",
    "\n",
    "num_graph = tf.reduce_max(node2graph)+1  \n",
    "\n",
    "gnn_input = GNNInput(\n",
    "    node_features=embeded,\n",
    "    adjacency_lists=(edge,),\n",
    "    node_to_graph_map=node2graph, \n",
    "    num_graphs=num_graph,\n",
    ")\n",
    "\n",
    "params = GNN.get_default_hyperparameters()\n",
    "params[\"message_calculation_class\"] = 'RGAT'\n",
    "params[\"hidden_dim\"] = 64\n",
    "params[\"num_layers\"] = 6\n",
    "params[\"num_heads\"] = 8\n",
    "\n",
    "\n",
    "gnn_layer = GNN(params) \n",
    "\n",
    "gnn_out = gnn_layer(gnn_input)\n",
    "\n",
    "print('gnn_out', gnn_out)           \n",
    "\n",
    "avg = segment_mean(\n",
    "    data=gnn_out,\n",
    "    segment_ids=node2graph\n",
    "    )\n",
    "\n",
    "l1 = Dense(128,activation='relu')(avg)\n",
    "l2 = Dense(64,activation='relu')(l1)\n",
    "pred = Dense(1, activation='sigmoid')(l2)\n",
    "\n",
    "\n",
    "model5 = Model(\n",
    "    inputs={\n",
    "        'data': data, \n",
    "        'edges': edge,\n",
    "        'node2grah': node2graph,\n",
    "    },\n",
    "    outputs=pred\n",
    ")\n",
    "model5.compile(\n",
    "    optimizer = 'adam', \n",
    "    loss='BinaryCrossentropy',\n",
    "    metrics=['AUC']\n",
    ")\n",
    "model5.summary()"
   ]
  },
  {
   "cell_type": "code",
   "execution_count": 132,
   "id": "33a0e03f",
   "metadata": {},
   "outputs": [
    {
     "name": "stdout",
     "output_type": "stream",
     "text": [
      "Epoch 1/50\n",
      "633/633 [==============================] - 38s 60ms/step - loss: 0.0991 - auc: 0.9921 - val_loss: 0.1200 - val_auc: 0.9873 - lr: 5.0000e-05\n",
      "Epoch 2/50\n",
      "633/633 [==============================] - 39s 62ms/step - loss: 0.1000 - auc: 0.9917 - val_loss: 0.1169 - val_auc: 0.9875 - lr: 5.0000e-05\n",
      "Epoch 3/50\n",
      "633/633 [==============================] - 38s 60ms/step - loss: 0.0983 - auc: 0.9918 - val_loss: 0.1159 - val_auc: 0.9879 - lr: 5.0000e-05\n",
      "Epoch 4/50\n",
      "633/633 [==============================] - 36s 58ms/step - loss: 0.0987 - auc: 0.9919 - val_loss: 0.1143 - val_auc: 0.9872 - lr: 5.0000e-05\n",
      "Epoch 5/50\n",
      "633/633 [==============================] - 36s 57ms/step - loss: 0.0985 - auc: 0.9919 - val_loss: 0.1126 - val_auc: 0.9884 - lr: 5.0000e-05\n",
      "Epoch 6/50\n",
      "633/633 [==============================] - 37s 59ms/step - loss: 0.0955 - auc: 0.9924 - val_loss: 0.1088 - val_auc: 0.9886 - lr: 5.0000e-05\n",
      "Epoch 7/50\n",
      "633/633 [==============================] - 37s 58ms/step - loss: 0.0978 - auc: 0.9921 - val_loss: 0.1164 - val_auc: 0.9880 - lr: 5.0000e-05\n",
      "Epoch 8/50\n",
      "633/633 [==============================] - 35s 56ms/step - loss: 0.0974 - auc: 0.9921 - val_loss: 0.1176 - val_auc: 0.9874 - lr: 5.0000e-05\n",
      "Epoch 9/50\n",
      "633/633 [==============================] - 37s 58ms/step - loss: 0.0956 - auc: 0.9924 - val_loss: 0.1067 - val_auc: 0.9893 - lr: 5.0000e-05\n",
      "Epoch 10/50\n",
      "633/633 [==============================] - 37s 58ms/step - loss: 0.0977 - auc: 0.9920 - val_loss: 0.1131 - val_auc: 0.9883 - lr: 5.0000e-05\n",
      "Epoch 11/50\n",
      "633/633 [==============================] - 38s 60ms/step - loss: 0.0950 - auc: 0.9925 - val_loss: 0.1172 - val_auc: 0.9878 - lr: 5.0000e-05\n",
      "Epoch 12/50\n",
      "633/633 [==============================] - 37s 59ms/step - loss: 0.0961 - auc: 0.9922 - val_loss: 0.1103 - val_auc: 0.9882 - lr: 5.0000e-05\n",
      "Epoch 13/50\n",
      "633/633 [==============================] - 38s 59ms/step - loss: 0.0930 - auc: 0.9928 - val_loss: 0.1210 - val_auc: 0.9868 - lr: 5.0000e-05\n",
      "Epoch 14/50\n",
      "633/633 [==============================] - 37s 58ms/step - loss: 0.0926 - auc: 0.9927 - val_loss: 0.1053 - val_auc: 0.9893 - lr: 5.0000e-05\n",
      "Epoch 15/50\n",
      "633/633 [==============================] - 37s 59ms/step - loss: 0.0945 - auc: 0.9925 - val_loss: 0.1206 - val_auc: 0.9866 - lr: 5.0000e-05\n",
      "Epoch 16/50\n",
      "633/633 [==============================] - 37s 59ms/step - loss: 0.0933 - auc: 0.9927 - val_loss: 0.1129 - val_auc: 0.9882 - lr: 5.0000e-05\n",
      "Epoch 17/50\n",
      "633/633 [==============================] - 38s 61ms/step - loss: 0.0910 - auc: 0.9931 - val_loss: 0.1134 - val_auc: 0.9874 - lr: 5.0000e-05\n",
      "Epoch 18/50\n",
      "633/633 [==============================] - 37s 58ms/step - loss: 0.0953 - auc: 0.9923 - val_loss: 0.1078 - val_auc: 0.9891 - lr: 5.0000e-05\n",
      "Epoch 19/50\n",
      "632/633 [============================>.] - ETA: 0s - loss: 0.0916 - auc: 0.9930Restoring model weights from the end of the best epoch: 14.\n",
      "633/633 [==============================] - 37s 59ms/step - loss: 0.0916 - auc: 0.9930 - val_loss: 0.1066 - val_auc: 0.9891 - lr: 5.0000e-05\n",
      "Epoch 19: early stopping\n"
     ]
    }
   ],
   "source": [
    "batch_size = 64\n",
    "num_batchs = math.ceil(len(training_set3) / batch_size)\n",
    "num_batchs_validation = math.ceil(len(validation_set3) / batch_size)\n",
    "\n",
    "early_stop = EarlyStopping(monitor='val_loss', patience=5, verbose=1,restore_best_weights=True)\n",
    "reduce_lr = ReduceLROnPlateau(monitor='val_loss', factor=0.2, patience=2, verbose=1, min_lr=0.0001)\n",
    "hist = model5.fit(\n",
    "    gen_batch(\n",
    "        training_set3, batch_size=batch_size, repeat=True\n",
    "    ),\n",
    "    steps_per_epoch=num_batchs,\n",
    "    epochs=50,\n",
    "    validation_data=gen_batch(\n",
    "        validation_set3, batch_size=64, repeat=True\n",
    "    ),\n",
    "    validation_steps=num_batchs_validation,\n",
    "    verbose=1,callbacks=[early_stop, reduce_lr]\n",
    ")\n"
   ]
  },
  {
   "cell_type": "code",
   "execution_count": 133,
   "id": "c8058efc",
   "metadata": {},
   "outputs": [
    {
     "name": "stdout",
     "output_type": "stream",
     "text": [
      "193/193 [==============================] - 3s 15ms/step\n"
     ]
    }
   ],
   "source": [
    "#make a prediction by using the model 0.9890 auc\n",
    "y_pred_5 = model5.predict(\n",
    "    gen_batch(testing_set, batch_size=64, shuffle=False)\n",
    ")\n",
    "y_pred_5 = np.reshape(y_pred_5, -1)\n",
    "submission = pd.DataFrame({'label':y_pred_5})\n",
    "submission.index.name = 'id'\n",
    "submission.to_csv('trial_3_RGAT3.csv')"
   ]
  },
  {
   "cell_type": "markdown",
   "id": "c4266635",
   "metadata": {},
   "source": [
    "# Trial 3.4 (randomOverSample)(RGIN)"
   ]
  },
  {
   "cell_type": "code",
   "execution_count": 126,
   "id": "6e291fcb",
   "metadata": {},
   "outputs": [
    {
     "name": "stdout",
     "output_type": "stream",
     "text": [
      "gnn_out KerasTensor(type_spec=TensorSpec(shape=(None, 64), dtype=tf.float32, name=None), name='gnn_11/StatefulPartitionedCall:0', description=\"created by layer 'gnn_11'\")\n",
      "Model: \"model_9\"\n",
      "__________________________________________________________________________________________________\n",
      " Layer (type)                   Output Shape         Param #     Connected to                     \n",
      "==================================================================================================\n",
      " input_36 (InputLayer)          [(None,)]            0           []                               \n",
      "                                                                                                  \n",
      " input_34 (InputLayer)          [(None,)]            0           []                               \n",
      "                                                                                                  \n",
      " tf.math.reduce_max_11 (TFOpLam  ()                  0           ['input_36[0][0]']               \n",
      " bda)                                                                                             \n",
      "                                                                                                  \n",
      " embedding_11 (Embedding)       (None, 80)           40000       ['input_34[0][0]']               \n",
      "                                                                                                  \n",
      " input_35 (InputLayer)          [(None, 2)]          0           []                               \n",
      "                                                                                                  \n",
      " tf.__operators__.add_11 (TFOpL  ()                  0           ['tf.math.reduce_max_11[0][0]']  \n",
      " ambda)                                                                                           \n",
      "                                                                                                  \n",
      " gnn_11 (GNN)                   (None, 64)           305408      ['embedding_11[0][0]',           \n",
      "                                                                  'input_35[0][0]',               \n",
      "                                                                  'input_36[0][0]',               \n",
      "                                                                  'tf.__operators__.add_11[0][0]']\n",
      "                                                                                                  \n",
      " tf.math.segment_mean_9 (TFOpLa  (None, 64)          0           ['gnn_11[0][0]',                 \n",
      " mbda)                                                            'input_36[0][0]']               \n",
      "                                                                                                  \n",
      " dense_23 (Dense)               (None, 128)          8320        ['tf.math.segment_mean_9[0][0]'] \n",
      "                                                                                                  \n",
      " dense_24 (Dense)               (None, 64)           8256        ['dense_23[0][0]']               \n",
      "                                                                                                  \n",
      " dense_25 (Dense)               (None, 1)            65          ['dense_24[0][0]']               \n",
      "                                                                                                  \n",
      "==================================================================================================\n",
      "Total params: 362,049\n",
      "Trainable params: 362,049\n",
      "Non-trainable params: 0\n",
      "__________________________________________________________________________________________________\n"
     ]
    }
   ],
   "source": [
    "data = keras.Input(batch_shape=(None,))\n",
    "\n",
    "edge = keras.Input(batch_shape=(None, 2), dtype=tf.int32)\n",
    "node2graph = keras.Input(batch_shape=(None,), dtype=tf.int32)\n",
    "\n",
    "embeded = Embedding(tokenizer3.num_words, 80)(data)\n",
    "\n",
    "num_graph = tf.reduce_max(node2graph)+1  \n",
    "\n",
    "gnn_input = GNNInput(\n",
    "    node_features=embeded,\n",
    "    adjacency_lists=(edge,),\n",
    "    node_to_graph_map=node2graph, \n",
    "    num_graphs=num_graph,\n",
    ")\n",
    "\n",
    "params = GNN.get_default_hyperparameters()\n",
    "params[\"message_calculation_class\"] = 'RGIN'\n",
    "params[\"hidden_dim\"] = 64\n",
    "params[\"num_layers\"] = 6\n",
    "params[\"num_aggr_MLP_hidden_layers\"] = 6\n",
    "\n",
    "\n",
    "gnn_layer = GNN(params) \n",
    "\n",
    "gnn_out = gnn_layer(gnn_input)\n",
    "\n",
    "print('gnn_out', gnn_out)           \n",
    "\n",
    "avg = segment_mean(\n",
    "    data=gnn_out,\n",
    "    segment_ids=node2graph\n",
    "    )\n",
    "\n",
    "l1 = Dense(128,activation='relu')(avg)\n",
    "l2 = Dense(64,activation='relu')(l1)\n",
    "pred = Dense(1, activation='sigmoid')(l2)\n",
    "\n",
    "\n",
    "model6 = Model(\n",
    "    inputs={\n",
    "        'data': data, \n",
    "        'edges': edge,\n",
    "        'node2grah': node2graph,\n",
    "    },\n",
    "    outputs=pred\n",
    ")\n",
    "model6.compile(\n",
    "    optimizer = 'adam', \n",
    "    loss='BinaryCrossentropy',\n",
    "    metrics=['AUC']\n",
    ")\n",
    "model6.summary()"
   ]
  },
  {
   "cell_type": "code",
   "execution_count": 127,
   "id": "c9ced8b6",
   "metadata": {},
   "outputs": [
    {
     "name": "stdout",
     "output_type": "stream",
     "text": [
      "Epoch 1/50\n"
     ]
    },
    {
     "name": "stderr",
     "output_type": "stream",
     "text": [
      "C:\\Users\\lenovo\\AppData\\Roaming\\Python\\Python39\\site-packages\\tensorflow\\python\\framework\\indexed_slices.py:444: UserWarning: Converting sparse IndexedSlices(IndexedSlices(indices=Tensor(\"gradients/rgin_4/embedding_lookup_grad/Reshape_1:0\", shape=(None,), dtype=int32), values=Tensor(\"gradients/rgin_4/embedding_lookup_grad/Reshape:0\", shape=(None, 64), dtype=float32), dense_shape=Tensor(\"gradients/rgin_4/embedding_lookup_grad/Cast:0\", shape=(2,), dtype=int32))) to a dense Tensor of unknown shape. This may consume a large amount of memory.\n",
      "  warnings.warn(\n",
      "C:\\Users\\lenovo\\AppData\\Roaming\\Python\\Python39\\site-packages\\tensorflow\\python\\framework\\indexed_slices.py:444: UserWarning: Converting sparse IndexedSlices(IndexedSlices(indices=Tensor(\"gradients/rgin_2/embedding_lookup_grad/Reshape_1:0\", shape=(None,), dtype=int32), values=Tensor(\"gradients/rgin_2/embedding_lookup_grad/Reshape:0\", shape=(None, 64), dtype=float32), dense_shape=Tensor(\"gradients/rgin_2/embedding_lookup_grad/Cast:0\", shape=(2,), dtype=int32))) to a dense Tensor of unknown shape. This may consume a large amount of memory.\n",
      "  warnings.warn(\n",
      "C:\\Users\\lenovo\\AppData\\Roaming\\Python\\Python39\\site-packages\\tensorflow\\python\\framework\\indexed_slices.py:444: UserWarning: Converting sparse IndexedSlices(IndexedSlices(indices=Tensor(\"gradients/rgin/embedding_lookup_grad/Reshape_1:0\", shape=(None,), dtype=int32), values=Tensor(\"gradients/rgin/embedding_lookup_grad/Reshape:0\", shape=(None, 64), dtype=float32), dense_shape=Tensor(\"gradients/rgin/embedding_lookup_grad/Cast:0\", shape=(2,), dtype=int32))) to a dense Tensor of unknown shape. This may consume a large amount of memory.\n",
      "  warnings.warn(\n"
     ]
    },
    {
     "name": "stdout",
     "output_type": "stream",
     "text": [
      "633/633 [==============================] - 19s 25ms/step - loss: 0.6728 - auc: 0.6039 - val_loss: 0.6502 - val_auc: 0.6613 - lr: 0.0010\n",
      "Epoch 2/50\n",
      "633/633 [==============================] - 15s 24ms/step - loss: 0.6391 - auc: 0.6762 - val_loss: 0.6184 - val_auc: 0.7137 - lr: 0.0010\n",
      "Epoch 3/50\n",
      "633/633 [==============================] - 15s 24ms/step - loss: 0.6360 - auc: 0.6860 - val_loss: 0.6396 - val_auc: 0.6816 - lr: 0.0010\n",
      "Epoch 4/50\n",
      "633/633 [==============================] - ETA: 0s - loss: 0.6410 - auc: 0.6783\n",
      "Epoch 4: ReduceLROnPlateau reducing learning rate to 0.00020000000949949026.\n",
      "633/633 [==============================] - 16s 25ms/step - loss: 0.6410 - auc: 0.6783 - val_loss: 0.6357 - val_auc: 0.6886 - lr: 0.0010\n",
      "Epoch 5/50\n",
      "633/633 [==============================] - 15s 24ms/step - loss: 0.6363 - auc: 0.6855 - val_loss: 0.6363 - val_auc: 0.6852 - lr: 2.0000e-04\n",
      "Epoch 6/50\n",
      "632/633 [============================>.] - ETA: 0s - loss: 0.6359 - auc: 0.6848\n",
      "Epoch 6: ReduceLROnPlateau reducing learning rate to 0.0001.\n",
      "633/633 [==============================] - 16s 25ms/step - loss: 0.6359 - auc: 0.6848 - val_loss: 0.6357 - val_auc: 0.6894 - lr: 2.0000e-04\n",
      "Epoch 7/50\n",
      "633/633 [==============================] - ETA: 0s - loss: 0.6342 - auc: 0.6876Restoring model weights from the end of the best epoch: 2.\n",
      "633/633 [==============================] - 15s 24ms/step - loss: 0.6342 - auc: 0.6876 - val_loss: 0.6349 - val_auc: 0.6888 - lr: 1.0000e-04\n",
      "Epoch 7: early stopping\n"
     ]
    }
   ],
   "source": [
    "batch_size = 64\n",
    "num_batchs = math.ceil(len(training_set3) / batch_size)\n",
    "num_batchs_validation = math.ceil(len(validation_set3) / batch_size)\n",
    "\n",
    "early_stop = EarlyStopping(monitor='val_loss', patience=5, verbose=1,restore_best_weights=True)\n",
    "reduce_lr = ReduceLROnPlateau(monitor='val_loss', factor=0.2, patience=2, verbose=1, min_lr=0.0001)\n",
    "hist = model6.fit(\n",
    "    gen_batch(\n",
    "        training_set3, batch_size=batch_size, repeat=True\n",
    "    ),\n",
    "    steps_per_epoch=num_batchs,\n",
    "    epochs=50,\n",
    "    validation_data=gen_batch(\n",
    "        validation_set3, batch_size=64, repeat=True\n",
    "    ),\n",
    "    validation_steps=num_batchs_validation,\n",
    "    verbose=1,callbacks=[early_stop, reduce_lr]\n",
    ")\n"
   ]
  },
  {
   "cell_type": "markdown",
   "id": "1f0ad7d1",
   "metadata": {},
   "source": [
    "the worst one so far :("
   ]
  },
  {
   "cell_type": "markdown",
   "id": "0f8e11a8",
   "metadata": {},
   "source": [
    "# Trial 3.5 (randomOverSample)(GNN-Edge-MLP)"
   ]
  },
  {
   "cell_type": "code",
   "execution_count": 128,
   "id": "5af42cc9",
   "metadata": {},
   "outputs": [
    {
     "name": "stdout",
     "output_type": "stream",
     "text": [
      "gnn_out KerasTensor(type_spec=TensorSpec(shape=(None, 64), dtype=tf.float32, name=None), name='gnn_12/StatefulPartitionedCall:0', description=\"created by layer 'gnn_12'\")\n",
      "Model: \"model_10\"\n",
      "__________________________________________________________________________________________________\n",
      " Layer (type)                   Output Shape         Param #     Connected to                     \n",
      "==================================================================================================\n",
      " input_39 (InputLayer)          [(None,)]            0           []                               \n",
      "                                                                                                  \n",
      " input_37 (InputLayer)          [(None,)]            0           []                               \n",
      "                                                                                                  \n",
      " tf.math.reduce_max_12 (TFOpLam  ()                  0           ['input_39[0][0]']               \n",
      " bda)                                                                                             \n",
      "                                                                                                  \n",
      " embedding_12 (Embedding)       (None, 80)           40000       ['input_37[0][0]']               \n",
      "                                                                                                  \n",
      " input_38 (InputLayer)          [(None, 2)]          0           []                               \n",
      "                                                                                                  \n",
      " tf.__operators__.add_12 (TFOpL  ()                  0           ['tf.math.reduce_max_12[0][0]']  \n",
      " ambda)                                                                                           \n",
      "                                                                                                  \n",
      " gnn_12 (GNN)                   (None, 64)           133376      ['embedding_12[0][0]',           \n",
      "                                                                  'input_38[0][0]',               \n",
      "                                                                  'input_39[0][0]',               \n",
      "                                                                  'tf.__operators__.add_12[0][0]']\n",
      "                                                                                                  \n",
      " tf.math.segment_mean_10 (TFOpL  (None, 64)          0           ['gnn_12[0][0]',                 \n",
      " ambda)                                                           'input_39[0][0]']               \n",
      "                                                                                                  \n",
      " dense_26 (Dense)               (None, 128)          8320        ['tf.math.segment_mean_10[0][0]']\n",
      "                                                                                                  \n",
      " dense_27 (Dense)               (None, 64)           8256        ['dense_26[0][0]']               \n",
      "                                                                                                  \n",
      " dense_28 (Dense)               (None, 1)            65          ['dense_27[0][0]']               \n",
      "                                                                                                  \n",
      "==================================================================================================\n",
      "Total params: 190,017\n",
      "Trainable params: 190,017\n",
      "Non-trainable params: 0\n",
      "__________________________________________________________________________________________________\n"
     ]
    }
   ],
   "source": [
    "data = keras.Input(batch_shape=(None,))\n",
    "\n",
    "edge = keras.Input(batch_shape=(None, 2), dtype=tf.int32)\n",
    "node2graph = keras.Input(batch_shape=(None,), dtype=tf.int32)\n",
    "\n",
    "embeded = Embedding(tokenizer3.num_words, 80)(data)\n",
    "\n",
    "num_graph = tf.reduce_max(node2graph)+1  \n",
    "\n",
    "gnn_input = GNNInput(\n",
    "    node_features=embeded,\n",
    "    adjacency_lists=(edge,),\n",
    "    node_to_graph_map=node2graph, \n",
    "    num_graphs=num_graph,\n",
    ")\n",
    "\n",
    "params = GNN.get_default_hyperparameters()\n",
    "params[\"message_calculation_class\"] = 'gnn_edge_mlp'\n",
    "params[\"hidden_dim\"] = 64\n",
    "params[\"num_layers\"] = 6\n",
    "\n",
    "\n",
    "gnn_layer = GNN(params) \n",
    "\n",
    "gnn_out = gnn_layer(gnn_input)\n",
    "\n",
    "print('gnn_out', gnn_out)           \n",
    "\n",
    "avg = segment_mean(\n",
    "    data=gnn_out,\n",
    "    segment_ids=node2graph\n",
    "    )\n",
    "\n",
    "l1 = Dense(128,activation='relu')(avg)\n",
    "l2 = Dense(64,activation='relu')(l1)\n",
    "pred = Dense(1, activation='sigmoid')(l2)\n",
    "\n",
    "\n",
    "model7 = Model(\n",
    "    inputs={\n",
    "        'data': data, \n",
    "        'edges': edge,\n",
    "        'node2grah': node2graph,\n",
    "    },\n",
    "    outputs=pred\n",
    ")\n",
    "model7.compile(\n",
    "    optimizer = 'adam', \n",
    "    loss='BinaryCrossentropy',\n",
    "    metrics=['AUC']\n",
    ")\n",
    "model7.summary()"
   ]
  },
  {
   "cell_type": "code",
   "execution_count": 129,
   "id": "bfb99eca",
   "metadata": {},
   "outputs": [
    {
     "name": "stdout",
     "output_type": "stream",
     "text": [
      "Epoch 1/50\n"
     ]
    },
    {
     "name": "stderr",
     "output_type": "stream",
     "text": [
      "C:\\Users\\lenovo\\AppData\\Roaming\\Python\\Python39\\site-packages\\tensorflow\\python\\framework\\indexed_slices.py:444: UserWarning: Converting sparse IndexedSlices(IndexedSlices(indices=Tensor(\"gradients/gnn__edge_mlp_4/embedding_lookup_grad/Reshape_1:0\", shape=(None,), dtype=int32), values=Tensor(\"gradients/gnn__edge_mlp_4/embedding_lookup_grad/Reshape:0\", shape=(None, 64), dtype=float32), dense_shape=Tensor(\"gradients/gnn__edge_mlp_4/embedding_lookup_grad/Cast:0\", shape=(2,), dtype=int32))) to a dense Tensor of unknown shape. This may consume a large amount of memory.\n",
      "  warnings.warn(\n",
      "C:\\Users\\lenovo\\AppData\\Roaming\\Python\\Python39\\site-packages\\tensorflow\\python\\framework\\indexed_slices.py:444: UserWarning: Converting sparse IndexedSlices(IndexedSlices(indices=Tensor(\"gradients/gnn__edge_mlp_2/embedding_lookup_grad/Reshape_1:0\", shape=(None,), dtype=int32), values=Tensor(\"gradients/gnn__edge_mlp_2/embedding_lookup_grad/Reshape:0\", shape=(None, 64), dtype=float32), dense_shape=Tensor(\"gradients/gnn__edge_mlp_2/embedding_lookup_grad/Cast:0\", shape=(2,), dtype=int32))) to a dense Tensor of unknown shape. This may consume a large amount of memory.\n",
      "  warnings.warn(\n",
      "C:\\Users\\lenovo\\AppData\\Roaming\\Python\\Python39\\site-packages\\tensorflow\\python\\framework\\indexed_slices.py:444: UserWarning: Converting sparse IndexedSlices(IndexedSlices(indices=Tensor(\"gradients/gnn__edge_mlp/embedding_lookup_grad/Reshape_1:0\", shape=(None,), dtype=int32), values=Tensor(\"gradients/gnn__edge_mlp/embedding_lookup_grad/Reshape:0\", shape=(None, 64), dtype=float32), dense_shape=Tensor(\"gradients/gnn__edge_mlp/embedding_lookup_grad/Cast:0\", shape=(2,), dtype=int32))) to a dense Tensor of unknown shape. This may consume a large amount of memory.\n",
      "  warnings.warn(\n"
     ]
    },
    {
     "name": "stdout",
     "output_type": "stream",
     "text": [
      "633/633 [==============================] - 14s 19ms/step - loss: 0.6239 - auc: 0.7023 - val_loss: 0.5886 - val_auc: 0.7469 - lr: 0.0010\n",
      "Epoch 2/50\n",
      "633/633 [==============================] - 12s 18ms/step - loss: 0.5944 - auc: 0.7387 - val_loss: 0.5764 - val_auc: 0.7741 - lr: 0.0010\n",
      "Epoch 3/50\n",
      "633/633 [==============================] - 12s 18ms/step - loss: 0.5681 - auc: 0.7653 - val_loss: 0.5395 - val_auc: 0.7911 - lr: 0.0010\n",
      "Epoch 4/50\n",
      "633/633 [==============================] - 12s 18ms/step - loss: 0.5568 - auc: 0.7811 - val_loss: 0.5528 - val_auc: 0.7982 - lr: 0.0010\n",
      "Epoch 5/50\n",
      "633/633 [==============================] - 11s 18ms/step - loss: 0.5418 - auc: 0.7970 - val_loss: 0.5190 - val_auc: 0.8214 - lr: 0.0010\n",
      "Epoch 6/50\n",
      "633/633 [==============================] - 11s 18ms/step - loss: 0.5293 - auc: 0.8089 - val_loss: 0.5227 - val_auc: 0.8219 - lr: 0.0010\n",
      "Epoch 7/50\n",
      "633/633 [==============================] - 12s 18ms/step - loss: 0.5136 - auc: 0.8234 - val_loss: 0.5023 - val_auc: 0.8363 - lr: 0.0010\n",
      "Epoch 8/50\n",
      "633/633 [==============================] - 11s 18ms/step - loss: 0.5001 - auc: 0.8351 - val_loss: 0.4788 - val_auc: 0.8505 - lr: 0.0010\n",
      "Epoch 9/50\n",
      "633/633 [==============================] - 12s 19ms/step - loss: 0.4829 - auc: 0.8482 - val_loss: 0.4513 - val_auc: 0.8696 - lr: 0.0010\n",
      "Epoch 10/50\n",
      "633/633 [==============================] - 12s 18ms/step - loss: 0.4688 - auc: 0.8583 - val_loss: 0.4592 - val_auc: 0.8688 - lr: 0.0010\n",
      "Epoch 11/50\n",
      "633/633 [==============================] - 11s 18ms/step - loss: 0.4554 - auc: 0.8673 - val_loss: 0.4405 - val_auc: 0.8809 - lr: 0.0010\n",
      "Epoch 12/50\n",
      "633/633 [==============================] - 11s 18ms/step - loss: 0.4412 - auc: 0.8762 - val_loss: 0.4296 - val_auc: 0.8886 - lr: 0.0010\n",
      "Epoch 13/50\n",
      "633/633 [==============================] - 17s 27ms/step - loss: 0.4293 - auc: 0.8834 - val_loss: 0.4160 - val_auc: 0.8910 - lr: 0.0010\n",
      "Epoch 14/50\n",
      "633/633 [==============================] - 12s 19ms/step - loss: 0.4200 - auc: 0.8889 - val_loss: 0.4220 - val_auc: 0.8969 - lr: 0.0010\n",
      "Epoch 15/50\n",
      "633/633 [==============================] - 11s 18ms/step - loss: 0.4047 - auc: 0.8971 - val_loss: 0.3851 - val_auc: 0.9112 - lr: 0.0010\n",
      "Epoch 16/50\n",
      "633/633 [==============================] - 11s 18ms/step - loss: 0.3911 - auc: 0.9040 - val_loss: 0.3886 - val_auc: 0.9069 - lr: 0.0010\n",
      "Epoch 17/50\n",
      "633/633 [==============================] - 11s 18ms/step - loss: 0.3819 - auc: 0.9089 - val_loss: 0.3730 - val_auc: 0.9204 - lr: 0.0010\n",
      "Epoch 18/50\n",
      "633/633 [==============================] - 11s 18ms/step - loss: 0.3706 - auc: 0.9145 - val_loss: 0.3492 - val_auc: 0.9244 - lr: 0.0010\n",
      "Epoch 19/50\n",
      "633/633 [==============================] - 11s 18ms/step - loss: 0.3603 - auc: 0.9190 - val_loss: 0.3293 - val_auc: 0.9352 - lr: 0.0010\n",
      "Epoch 20/50\n",
      "633/633 [==============================] - 11s 18ms/step - loss: 0.3545 - auc: 0.9216 - val_loss: 0.3625 - val_auc: 0.9272 - lr: 0.0010\n",
      "Epoch 21/50\n",
      "633/633 [==============================] - 11s 18ms/step - loss: 0.3401 - auc: 0.9284 - val_loss: 0.3290 - val_auc: 0.9333 - lr: 0.0010\n",
      "Epoch 22/50\n",
      "633/633 [==============================] - 11s 18ms/step - loss: 0.3305 - auc: 0.9322 - val_loss: 0.3002 - val_auc: 0.9441 - lr: 0.0010\n",
      "Epoch 23/50\n",
      "633/633 [==============================] - 11s 18ms/step - loss: 0.3206 - auc: 0.9362 - val_loss: 0.3015 - val_auc: 0.9441 - lr: 0.0010\n",
      "Epoch 24/50\n",
      "632/633 [============================>.] - ETA: 0s - loss: 0.3115 - auc: 0.9398\n",
      "Epoch 24: ReduceLROnPlateau reducing learning rate to 0.00020000000949949026.\n",
      "633/633 [==============================] - 12s 18ms/step - loss: 0.3114 - auc: 0.9399 - val_loss: 0.3019 - val_auc: 0.9460 - lr: 0.0010\n",
      "Epoch 25/50\n",
      "633/633 [==============================] - 12s 18ms/step - loss: 0.2713 - auc: 0.9538 - val_loss: 0.2518 - val_auc: 0.9617 - lr: 2.0000e-04\n",
      "Epoch 26/50\n",
      "633/633 [==============================] - 12s 18ms/step - loss: 0.2621 - auc: 0.9570 - val_loss: 0.2477 - val_auc: 0.9606 - lr: 2.0000e-04\n",
      "Epoch 27/50\n",
      "633/633 [==============================] - 11s 18ms/step - loss: 0.2530 - auc: 0.9596 - val_loss: 0.2603 - val_auc: 0.9597 - lr: 2.0000e-04\n",
      "Epoch 28/50\n",
      "633/633 [==============================] - 11s 18ms/step - loss: 0.2504 - auc: 0.9603 - val_loss: 0.2378 - val_auc: 0.9624 - lr: 2.0000e-04\n",
      "Epoch 29/50\n",
      "633/633 [==============================] - 12s 19ms/step - loss: 0.2449 - auc: 0.9619 - val_loss: 0.2355 - val_auc: 0.9642 - lr: 2.0000e-04\n",
      "Epoch 30/50\n",
      "633/633 [==============================] - 12s 18ms/step - loss: 0.2436 - auc: 0.9623 - val_loss: 0.2191 - val_auc: 0.9677 - lr: 2.0000e-04\n",
      "Epoch 31/50\n",
      "633/633 [==============================] - 11s 18ms/step - loss: 0.2365 - auc: 0.9641 - val_loss: 0.2353 - val_auc: 0.9653 - lr: 2.0000e-04\n",
      "Epoch 32/50\n",
      "633/633 [==============================] - ETA: 0s - loss: 0.2341 - auc: 0.9651\n",
      "Epoch 32: ReduceLROnPlateau reducing learning rate to 5e-05.\n",
      "633/633 [==============================] - 11s 18ms/step - loss: 0.2341 - auc: 0.9651 - val_loss: 0.2429 - val_auc: 0.9656 - lr: 2.0000e-04\n",
      "Epoch 33/50\n",
      "633/633 [==============================] - 12s 18ms/step - loss: 0.2284 - auc: 0.9666 - val_loss: 0.2248 - val_auc: 0.9677 - lr: 5.0000e-05\n",
      "Epoch 34/50\n",
      "633/633 [==============================] - 11s 18ms/step - loss: 0.2212 - auc: 0.9686 - val_loss: 0.2134 - val_auc: 0.9715 - lr: 5.0000e-05\n",
      "Epoch 35/50\n",
      "633/633 [==============================] - 11s 18ms/step - loss: 0.2250 - auc: 0.9675 - val_loss: 0.2209 - val_auc: 0.9677 - lr: 5.0000e-05\n",
      "Epoch 36/50\n",
      "633/633 [==============================] - 11s 18ms/step - loss: 0.2232 - auc: 0.9679 - val_loss: 0.2079 - val_auc: 0.9719 - lr: 5.0000e-05\n",
      "Epoch 37/50\n",
      "633/633 [==============================] - 12s 19ms/step - loss: 0.2232 - auc: 0.9678 - val_loss: 0.2200 - val_auc: 0.9701 - lr: 5.0000e-05\n",
      "Epoch 38/50\n",
      "633/633 [==============================] - 12s 18ms/step - loss: 0.2187 - auc: 0.9692 - val_loss: 0.2088 - val_auc: 0.9717 - lr: 5.0000e-05\n",
      "Epoch 39/50\n",
      "633/633 [==============================] - 11s 18ms/step - loss: 0.2203 - auc: 0.9685 - val_loss: 0.2109 - val_auc: 0.9705 - lr: 5.0000e-05\n",
      "Epoch 40/50\n",
      "633/633 [==============================] - 11s 18ms/step - loss: 0.2180 - auc: 0.9693 - val_loss: 0.2126 - val_auc: 0.9698 - lr: 5.0000e-05\n",
      "Epoch 41/50\n",
      "633/633 [==============================] - ETA: 0s - loss: 0.2142 - auc: 0.9702Restoring model weights from the end of the best epoch: 36.\n",
      "633/633 [==============================] - 11s 18ms/step - loss: 0.2142 - auc: 0.9702 - val_loss: 0.2109 - val_auc: 0.9718 - lr: 5.0000e-05\n",
      "Epoch 41: early stopping\n"
     ]
    }
   ],
   "source": [
    "batch_size = 64\n",
    "num_batchs = math.ceil(len(training_set3) / batch_size)\n",
    "num_batchs_validation = math.ceil(len(validation_set3) / batch_size)\n",
    "\n",
    "early_stop = EarlyStopping(monitor='val_loss', patience=5, verbose=1,restore_best_weights=True)\n",
    "reduce_lr = ReduceLROnPlateau(monitor='val_loss', factor=0.2, patience=2, verbose=1, min_lr=0.00005)\n",
    "hist = model7.fit(\n",
    "    gen_batch(\n",
    "        training_set3, batch_size=batch_size, repeat=True\n",
    "    ),\n",
    "    steps_per_epoch=num_batchs,\n",
    "    epochs=50,\n",
    "    validation_data=gen_batch(\n",
    "        validation_set3, batch_size=64, repeat=True\n",
    "    ),\n",
    "    validation_steps=num_batchs_validation,\n",
    "    verbose=1,callbacks=[early_stop, reduce_lr]\n",
    ")\n"
   ]
  },
  {
   "cell_type": "markdown",
   "id": "bc5b19a3",
   "metadata": {},
   "source": [
    "# Trial 3.6 (randomOverSample)(GNN-FiLM)"
   ]
  },
  {
   "cell_type": "code",
   "execution_count": 137,
   "id": "64c90c05",
   "metadata": {},
   "outputs": [
    {
     "name": "stdout",
     "output_type": "stream",
     "text": [
      "gnn_out KerasTensor(type_spec=TensorSpec(shape=(None, 64), dtype=tf.float32, name=None), name='gnn_15/StatefulPartitionedCall:0', description=\"created by layer 'gnn_15'\")\n",
      "Model: \"model_12\"\n",
      "__________________________________________________________________________________________________\n",
      " Layer (type)                   Output Shape         Param #     Connected to                     \n",
      "==================================================================================================\n",
      " input_48 (InputLayer)          [(None,)]            0           []                               \n",
      "                                                                                                  \n",
      " input_46 (InputLayer)          [(None,)]            0           []                               \n",
      "                                                                                                  \n",
      " tf.math.reduce_max_15 (TFOpLam  ()                  0           ['input_48[0][0]']               \n",
      " bda)                                                                                             \n",
      "                                                                                                  \n",
      " embedding_15 (Embedding)       (None, 80)           40000       ['input_46[0][0]']               \n",
      "                                                                                                  \n",
      " input_47 (InputLayer)          [(None, 2)]          0           []                               \n",
      "                                                                                                  \n",
      " tf.__operators__.add_15 (TFOpL  ()                  0           ['tf.math.reduce_max_15[0][0]']  \n",
      " ambda)                                                                                           \n",
      "                                                                                                  \n",
      " gnn_15 (GNN)                   (None, 64)           280832      ['embedding_15[0][0]',           \n",
      "                                                                  'input_47[0][0]',               \n",
      "                                                                  'input_48[0][0]',               \n",
      "                                                                  'tf.__operators__.add_15[0][0]']\n",
      "                                                                                                  \n",
      " tf.math.segment_mean_12 (TFOpL  (None, 64)          0           ['gnn_15[0][0]',                 \n",
      " ambda)                                                           'input_48[0][0]']               \n",
      "                                                                                                  \n",
      " dense_32 (Dense)               (None, 128)          8320        ['tf.math.segment_mean_12[0][0]']\n",
      "                                                                                                  \n",
      " dense_33 (Dense)               (None, 64)           8256        ['dense_32[0][0]']               \n",
      "                                                                                                  \n",
      " dense_34 (Dense)               (None, 1)            65          ['dense_33[0][0]']               \n",
      "                                                                                                  \n",
      "==================================================================================================\n",
      "Total params: 337,473\n",
      "Trainable params: 337,473\n",
      "Non-trainable params: 0\n",
      "__________________________________________________________________________________________________\n"
     ]
    }
   ],
   "source": [
    "data = keras.Input(batch_shape=(None,))\n",
    "\n",
    "edge = keras.Input(batch_shape=(None, 2), dtype=tf.int32)\n",
    "node2graph = keras.Input(batch_shape=(None,), dtype=tf.int32)\n",
    "\n",
    "embeded = Embedding(tokenizer3.num_words, 80)(data)\n",
    "\n",
    "num_graph = tf.reduce_max(node2graph)+1  \n",
    "\n",
    "gnn_input = GNNInput(\n",
    "    node_features=embeded,\n",
    "    adjacency_lists=(edge,),\n",
    "    node_to_graph_map=node2graph, \n",
    "    num_graphs=num_graph,\n",
    ")\n",
    "\n",
    "params = GNN.get_default_hyperparameters()\n",
    "params[\"message_calculation_class\"] = 'GNN_FiLM'\n",
    "params[\"hidden_dim\"] = 64\n",
    "params[\"num_layers\"] = 6\n",
    "params[\"film_parameter_MLP_hidden_layers\"] = 1\n",
    "\n",
    "\n",
    "gnn_layer = GNN(params) \n",
    "\n",
    "gnn_out = gnn_layer(gnn_input)\n",
    "\n",
    "print('gnn_out', gnn_out)           \n",
    "\n",
    "avg = segment_mean(\n",
    "    data=gnn_out,\n",
    "    segment_ids=node2graph\n",
    "    )\n",
    "\n",
    "l1 = Dense(128,activation='relu')(avg)\n",
    "l2 = Dense(64,activation='relu')(l1)\n",
    "pred = Dense(1, activation='sigmoid')(l2)\n",
    "\n",
    "\n",
    "model8 = Model(\n",
    "    inputs={\n",
    "        'data': data, \n",
    "        'edges': edge,\n",
    "        'node2grah': node2graph,\n",
    "    },\n",
    "    outputs=pred\n",
    ")\n",
    "model8.compile(\n",
    "    optimizer = 'adam', \n",
    "    loss='BinaryCrossentropy',\n",
    "    metrics=['AUC']\n",
    ")\n",
    "model8.summary()"
   ]
  },
  {
   "cell_type": "code",
   "execution_count": 162,
   "id": "903f31f9",
   "metadata": {},
   "outputs": [
    {
     "name": "stdout",
     "output_type": "stream",
     "text": [
      "Epoch 1/50\n",
      "633/633 [==============================] - 14s 22ms/step - loss: 0.0259 - auc: 0.9987 - val_loss: 0.0740 - val_auc: 0.9920 - lr: 1.0000e-04\n",
      "Epoch 2/50\n",
      "633/633 [==============================] - 13s 21ms/step - loss: 0.0262 - auc: 0.9986 - val_loss: 0.0764 - val_auc: 0.9922 - lr: 1.0000e-04\n",
      "Epoch 3/50\n",
      "633/633 [==============================] - ETA: 0s - loss: 0.0238 - auc: 0.9989\n",
      "Epoch 3: ReduceLROnPlateau reducing learning rate to 5e-05.\n",
      "633/633 [==============================] - 13s 21ms/step - loss: 0.0238 - auc: 0.9989 - val_loss: 0.0770 - val_auc: 0.9920 - lr: 1.0000e-04\n",
      "Epoch 4/50\n",
      "633/633 [==============================] - 13s 20ms/step - loss: 0.0210 - auc: 0.9991 - val_loss: 0.0787 - val_auc: 0.9922 - lr: 5.0000e-05\n",
      "Epoch 5/50\n",
      "633/633 [==============================] - 13s 21ms/step - loss: 0.0210 - auc: 0.9990 - val_loss: 0.0735 - val_auc: 0.9927 - lr: 5.0000e-05\n",
      "Epoch 6/50\n",
      "633/633 [==============================] - 13s 21ms/step - loss: 0.0205 - auc: 0.9992 - val_loss: 0.0835 - val_auc: 0.9915 - lr: 5.0000e-05\n",
      "Epoch 7/50\n",
      "633/633 [==============================] - 14s 22ms/step - loss: 0.0201 - auc: 0.9992 - val_loss: 0.0787 - val_auc: 0.9920 - lr: 5.0000e-05\n",
      "Epoch 8/50\n",
      "633/633 [==============================] - 14s 22ms/step - loss: 0.0201 - auc: 0.9992 - val_loss: 0.0751 - val_auc: 0.9916 - lr: 5.0000e-05\n",
      "Epoch 9/50\n",
      "633/633 [==============================] - 13s 21ms/step - loss: 0.0196 - auc: 0.9992 - val_loss: 0.0758 - val_auc: 0.9921 - lr: 5.0000e-05\n",
      "Epoch 10/50\n",
      "632/633 [============================>.] - ETA: 0s - loss: 0.0188 - auc: 0.9992Restoring model weights from the end of the best epoch: 5.\n",
      "633/633 [==============================] - 13s 21ms/step - loss: 0.0188 - auc: 0.9992 - val_loss: 0.0798 - val_auc: 0.9917 - lr: 5.0000e-05\n",
      "Epoch 10: early stopping\n"
     ]
    }
   ],
   "source": [
    "batch_size = 64\n",
    "num_batchs = math.ceil(len(training_set3) / batch_size)\n",
    "num_batchs_validation = math.ceil(len(validation_set3) / batch_size)\n",
    "\n",
    "early_stop = EarlyStopping(monitor='val_loss', patience=5, verbose=1,restore_best_weights=True)\n",
    "reduce_lr = ReduceLROnPlateau(monitor='val_loss', factor=0.2, patience=2, verbose=1, min_lr=0.00005)\n",
    "hist = model8.fit(\n",
    "    gen_batch(\n",
    "        training_set3, batch_size=batch_size, repeat=True\n",
    "    ),\n",
    "    steps_per_epoch=num_batchs,\n",
    "    epochs=50,\n",
    "    validation_data=gen_batch(\n",
    "        validation_set3, batch_size=64, repeat=True\n",
    "    ),\n",
    "    validation_steps=num_batchs_validation,\n",
    "    verbose=1,callbacks=[early_stop, reduce_lr]\n",
    ")\n"
   ]
  },
  {
   "cell_type": "code",
   "execution_count": 163,
   "id": "b654dc7f",
   "metadata": {},
   "outputs": [
    {
     "name": "stdout",
     "output_type": "stream",
     "text": [
      "193/193 [==============================] - 1s 7ms/step\n"
     ]
    }
   ],
   "source": [
    "#make a prediction by using the model 0.9926 auc\n",
    "y_pred_8 = model8.predict(\n",
    "    gen_batch(testing_set, batch_size=64, shuffle=False)\n",
    ")\n",
    "y_pred_8 = np.reshape(y_pred_8, -1)\n",
    "submission = pd.DataFrame({'label':y_pred_8})\n",
    "submission.index.name = 'id'\n",
    "submission.to_csv('trial_3_film3.csv')"
   ]
  },
  {
   "cell_type": "markdown",
   "id": "63780d2d",
   "metadata": {},
   "source": [
    "it preformed really well but at the end ggnn won so i will give it another try with different hyperparameters"
   ]
  },
  {
   "cell_type": "markdown",
   "id": "39b51918",
   "metadata": {},
   "source": [
    "# Trial 3.7 (randomOverSample)(ggnn)"
   ]
  },
  {
   "cell_type": "code",
   "execution_count": 148,
   "id": "c60d4fe8",
   "metadata": {},
   "outputs": [
    {
     "name": "stdout",
     "output_type": "stream",
     "text": [
      "gnn_out KerasTensor(type_spec=TensorSpec(shape=(None, 128), dtype=tf.float32, name=None), name='gnn_23/StatefulPartitionedCall:0', description=\"created by layer 'gnn_23'\")\n",
      "Model: \"model_13\"\n",
      "__________________________________________________________________________________________________\n",
      " Layer (type)                   Output Shape         Param #     Connected to                     \n",
      "==================================================================================================\n",
      " input_72 (InputLayer)          [(None,)]            0           []                               \n",
      "                                                                                                  \n",
      " input_70 (InputLayer)          [(None,)]            0           []                               \n",
      "                                                                                                  \n",
      " tf.math.reduce_max_23 (TFOpLam  ()                  0           ['input_72[0][0]']               \n",
      " bda)                                                                                             \n",
      "                                                                                                  \n",
      " embedding_23 (Embedding)       (None, 80)           40000       ['input_70[0][0]']               \n",
      "                                                                                                  \n",
      " input_71 (InputLayer)          [(None, 2)]          0           []                               \n",
      "                                                                                                  \n",
      " tf.__operators__.add_23 (TFOpL  ()                  0           ['tf.math.reduce_max_23[0][0]']  \n",
      " ambda)                                                                                           \n",
      "                                                                                                  \n",
      " gnn_23 (GNN)                   (None, 128)          1049600     ['embedding_23[0][0]',           \n",
      "                                                                  'input_71[0][0]',               \n",
      "                                                                  'input_72[0][0]',               \n",
      "                                                                  'tf.__operators__.add_23[0][0]']\n",
      "                                                                                                  \n",
      " tf.math.segment_mean_13 (TFOpL  (None, 128)         0           ['gnn_23[0][0]',                 \n",
      " ambda)                                                           'input_72[0][0]']               \n",
      "                                                                                                  \n",
      " dense_35 (Dense)               (None, 128)          16512       ['tf.math.segment_mean_13[0][0]']\n",
      "                                                                                                  \n",
      " dense_36 (Dense)               (None, 64)           8256        ['dense_35[0][0]']               \n",
      "                                                                                                  \n",
      " dense_37 (Dense)               (None, 1)            65          ['dense_36[0][0]']               \n",
      "                                                                                                  \n",
      "==================================================================================================\n",
      "Total params: 1,114,433\n",
      "Trainable params: 1,114,433\n",
      "Non-trainable params: 0\n",
      "__________________________________________________________________________________________________\n"
     ]
    }
   ],
   "source": [
    "data = keras.Input(batch_shape=(None,))\n",
    "\n",
    "edge = keras.Input(batch_shape=(None, 2), dtype=tf.int32)\n",
    "node2graph = keras.Input(batch_shape=(None,), dtype=tf.int32)\n",
    "\n",
    "embeded = Embedding(tokenizer3.num_words, 80)(data)\n",
    "\n",
    "num_graph = tf.reduce_max(node2graph)+1  \n",
    "\n",
    "gnn_input = GNNInput(\n",
    "    node_features=embeded,\n",
    "    adjacency_lists=(edge,),\n",
    "    node_to_graph_map=node2graph, \n",
    "    num_graphs=num_graph,\n",
    ")\n",
    "\n",
    "params = GNN.get_default_hyperparameters()\n",
    "params[\"message_calculation_class\"] = 'GGNN'\n",
    "params[\"hidden_dim\"] = 128\n",
    "params[\"num_layers\"] = 6\n",
    "\n",
    "\n",
    "gnn_layer = GNN(params) \n",
    "\n",
    "gnn_out = gnn_layer(gnn_input)\n",
    "\n",
    "print('gnn_out', gnn_out)           \n",
    "\n",
    "avg = segment_mean(\n",
    "    data=gnn_out,\n",
    "    segment_ids=node2graph\n",
    "    )\n",
    "\n",
    "l1 = Dense(128,activation='relu')(avg)\n",
    "l2 = Dense(64,activation='relu')(l1)\n",
    "pred = Dense(1, activation='sigmoid')(l2)\n",
    "\n",
    "\n",
    "model9 = Model(\n",
    "    inputs={\n",
    "        'data': data, \n",
    "        'edges': edge,\n",
    "        'node2grah': node2graph,\n",
    "    },\n",
    "    outputs=pred\n",
    ")\n",
    "model9.compile(\n",
    "    optimizer = 'adam', \n",
    "    loss='BinaryCrossentropy',\n",
    "    metrics=['AUC']\n",
    ")\n",
    "model9.summary()"
   ]
  },
  {
   "cell_type": "code",
   "execution_count": 158,
   "id": "b930ce89",
   "metadata": {},
   "outputs": [
    {
     "name": "stdout",
     "output_type": "stream",
     "text": [
      "Epoch 1/50\n",
      "633/633 [==============================] - 20s 31ms/step - loss: 0.0216 - auc: 0.9992 - val_loss: 0.0759 - val_auc: 0.9934 - lr: 1.0000e-04\n",
      "Epoch 2/50\n",
      "633/633 [==============================] - 19s 30ms/step - loss: 0.0193 - auc: 0.9994 - val_loss: 0.0764 - val_auc: 0.9938 - lr: 1.0000e-04\n",
      "Epoch 3/50\n",
      "633/633 [==============================] - 19s 31ms/step - loss: 0.0203 - auc: 0.9993 - val_loss: 0.0781 - val_auc: 0.9935 - lr: 1.0000e-04\n",
      "Epoch 4/50\n",
      "633/633 [==============================] - 20s 31ms/step - loss: 0.0191 - auc: 0.9994 - val_loss: 0.0700 - val_auc: 0.9946 - lr: 1.0000e-04\n",
      "Epoch 5/50\n",
      "633/633 [==============================] - 19s 31ms/step - loss: 0.0183 - auc: 0.9993 - val_loss: 0.0766 - val_auc: 0.9946 - lr: 1.0000e-04\n",
      "Epoch 6/50\n",
      "633/633 [==============================] - 19s 30ms/step - loss: 0.0176 - auc: 0.9995 - val_loss: 0.0877 - val_auc: 0.9924 - lr: 1.0000e-04\n",
      "Epoch 7/50\n",
      "633/633 [==============================] - ETA: 0s - loss: 0.0172 - auc: 0.9994\n",
      "Epoch 7: ReduceLROnPlateau reducing learning rate to 5e-05.\n",
      "633/633 [==============================] - 19s 30ms/step - loss: 0.0172 - auc: 0.9994 - val_loss: 0.0842 - val_auc: 0.9932 - lr: 1.0000e-04\n",
      "Epoch 8/50\n",
      "633/633 [==============================] - 19s 30ms/step - loss: 0.0153 - auc: 0.9995 - val_loss: 0.0697 - val_auc: 0.9948 - lr: 5.0000e-05\n",
      "Epoch 9/50\n",
      "633/633 [==============================] - 19s 30ms/step - loss: 0.0147 - auc: 0.9995 - val_loss: 0.0706 - val_auc: 0.9941 - lr: 5.0000e-05\n",
      "Epoch 10/50\n",
      "633/633 [==============================] - 19s 31ms/step - loss: 0.0143 - auc: 0.9997 - val_loss: 0.0760 - val_auc: 0.9943 - lr: 5.0000e-05\n",
      "Epoch 11/50\n",
      "633/633 [==============================] - 19s 31ms/step - loss: 0.0140 - auc: 0.9996 - val_loss: 0.0698 - val_auc: 0.9944 - lr: 5.0000e-05\n",
      "Epoch 12/50\n",
      "633/633 [==============================] - 19s 30ms/step - loss: 0.0135 - auc: 0.9996 - val_loss: 0.0792 - val_auc: 0.9927 - lr: 5.0000e-05\n",
      "Epoch 13/50\n",
      "631/633 [============================>.] - ETA: 0s - loss: 0.0137 - auc: 0.9996Restoring model weights from the end of the best epoch: 8.\n",
      "633/633 [==============================] - 19s 31ms/step - loss: 0.0137 - auc: 0.9996 - val_loss: 0.0867 - val_auc: 0.9927 - lr: 5.0000e-05\n",
      "Epoch 13: early stopping\n"
     ]
    }
   ],
   "source": [
    "batch_size = 64\n",
    "num_batchs = math.ceil(len(training_set3) / batch_size)\n",
    "num_batchs_validation = math.ceil(len(validation_set3) / batch_size)\n",
    "\n",
    "early_stop = EarlyStopping(monitor='val_loss', patience=5, verbose=1,restore_best_weights=True)\n",
    "reduce_lr = ReduceLROnPlateau(monitor='val_loss', factor=0.2, patience=3, verbose=1, min_lr=0.00005)\n",
    "hist = model9.fit(\n",
    "    gen_batch(\n",
    "        training_set3, batch_size=batch_size, repeat=True\n",
    "    ),\n",
    "    steps_per_epoch=num_batchs,\n",
    "    epochs=50,\n",
    "    validation_data=gen_batch(\n",
    "        validation_set3, batch_size=64, repeat=True\n",
    "    ),\n",
    "    validation_steps=num_batchs_validation,\n",
    "    verbose=1,callbacks=[early_stop, reduce_lr]\n",
    ")\n"
   ]
  },
  {
   "cell_type": "code",
   "execution_count": 159,
   "id": "97e4c180",
   "metadata": {},
   "outputs": [
    {
     "name": "stdout",
     "output_type": "stream",
     "text": [
      "193/193 [==============================] - 2s 9ms/step\n"
     ]
    }
   ],
   "source": [
    "#make a prediction by using the model 0.9951\n",
    "y_pred_f9 = model9.predict(\n",
    "    gen_batch(testing_set, batch_size=64, shuffle=False)\n",
    ")\n",
    "y_pred_f9 = np.reshape(y_pred_f9, -1)"
   ]
  },
  {
   "cell_type": "code",
   "execution_count": 160,
   "id": "566853df",
   "metadata": {},
   "outputs": [],
   "source": [
    "submission = pd.DataFrame({'label':y_pred_f9})\n",
    "submission.index.name = 'id'\n",
    "submission.to_csv('trial_3_GGNNRandomLastlllhypermodel3.csv')"
   ]
  },
  {
   "cell_type": "markdown",
   "id": "8936defc",
   "metadata": {},
   "source": [
    "it was worse than 3.1 trial but when i tried to submit the secound best model (film) it got higher than both 0.88152\n",
    "on kaggle"
   ]
  },
  {
   "cell_type": "markdown",
   "id": "36924aa4",
   "metadata": {},
   "source": [
    "# Final trial (trial number 11)"
   ]
  },
  {
   "cell_type": "code",
   "execution_count": 170,
   "id": "48ac3309",
   "metadata": {},
   "outputs": [
    {
     "name": "stdout",
     "output_type": "stream",
     "text": [
      "gnn_out KerasTensor(type_spec=TensorSpec(shape=(None, 32), dtype=tf.float32, name=None), name='gnn_26/StatefulPartitionedCall:0', description=\"created by layer 'gnn_26'\")\n",
      "Model: \"model_15\"\n",
      "__________________________________________________________________________________________________\n",
      " Layer (type)                   Output Shape         Param #     Connected to                     \n",
      "==================================================================================================\n",
      " input_81 (InputLayer)          [(None,)]            0           []                               \n",
      "                                                                                                  \n",
      " input_79 (InputLayer)          [(None,)]            0           []                               \n",
      "                                                                                                  \n",
      " tf.math.reduce_max_26 (TFOpLam  ()                  0           ['input_81[0][0]']               \n",
      " bda)                                                                                             \n",
      "                                                                                                  \n",
      " embedding_26 (Embedding)       (None, 80)           40000       ['input_79[0][0]']               \n",
      "                                                                                                  \n",
      " input_80 (InputLayer)          [(None, 2)]          0           []                               \n",
      "                                                                                                  \n",
      " tf.__operators__.add_26 (TFOpL  ()                  0           ['tf.math.reduce_max_26[0][0]']  \n",
      " ambda)                                                                                           \n",
      "                                                                                                  \n",
      " gnn_26 (GNN)                   (None, 32)           48960       ['embedding_26[0][0]',           \n",
      "                                                                  'input_80[0][0]',               \n",
      "                                                                  'input_81[0][0]',               \n",
      "                                                                  'tf.__operators__.add_26[0][0]']\n",
      "                                                                                                  \n",
      " tf.math.segment_mean_15 (TFOpL  (None, 32)          0           ['gnn_26[0][0]',                 \n",
      " ambda)                                                           'input_81[0][0]']               \n",
      "                                                                                                  \n",
      " dense_41 (Dense)               (None, 128)          4224        ['tf.math.segment_mean_15[0][0]']\n",
      "                                                                                                  \n",
      " dense_42 (Dense)               (None, 64)           8256        ['dense_41[0][0]']               \n",
      "                                                                                                  \n",
      " dense_43 (Dense)               (None, 1)            65          ['dense_42[0][0]']               \n",
      "                                                                                                  \n",
      "==================================================================================================\n",
      "Total params: 101,505\n",
      "Trainable params: 101,505\n",
      "Non-trainable params: 0\n",
      "__________________________________________________________________________________________________\n"
     ]
    }
   ],
   "source": [
    "data = keras.Input(batch_shape=(None,))\n",
    "\n",
    "edge = keras.Input(batch_shape=(None, 2), dtype=tf.int32)\n",
    "node2graph = keras.Input(batch_shape=(None,), dtype=tf.int32)\n",
    "\n",
    "embeded = Embedding(tokenizer3.num_words, 80)(data)\n",
    "\n",
    "num_graph = tf.reduce_max(node2graph)+1  \n",
    "\n",
    "gnn_input = GNNInput(\n",
    "    node_features=embeded,\n",
    "    adjacency_lists=(edge,),\n",
    "    node_to_graph_map=node2graph, \n",
    "    num_graphs=num_graph,\n",
    ")\n",
    "\n",
    "params = GNN.get_default_hyperparameters()\n",
    "params[\"message_calculation_class\"] = 'GNN_FiLM'\n",
    "params[\"hidden_dim\"] = 64\n",
    "params[\"num_layers\"] = 4\n",
    "params[\"film_parameter_MLP_hidden_layers\"] = 1\n",
    "\n",
    "\n",
    "gnn_layer = GNN(params) \n",
    "\n",
    "gnn_out = gnn_layer(gnn_input)\n",
    "\n",
    "print('gnn_out', gnn_out)           \n",
    "\n",
    "avg = segment_mean(\n",
    "    data=gnn_out,\n",
    "    segment_ids=node2graph\n",
    "    )\n",
    "\n",
    "l1 = Dense(128,activation='relu')(avg)\n",
    "l2 = Dense(64,activation='relu')(l1)\n",
    "pred = Dense(1, activation='sigmoid')(l2)\n",
    "\n",
    "\n",
    "modelf = Model(\n",
    "    inputs={\n",
    "        'data': data, \n",
    "        'edges': edge,\n",
    "        'node2grah': node2graph,\n",
    "    },\n",
    "    outputs=pred\n",
    ")\n",
    "modelf.compile(\n",
    "    optimizer = 'adam', \n",
    "    loss='BinaryCrossentropy',\n",
    "    metrics=['AUC']\n",
    ")\n",
    "modelf.summary()"
   ]
  },
  {
   "cell_type": "code",
   "execution_count": 171,
   "id": "ec2849c1",
   "metadata": {},
   "outputs": [
    {
     "name": "stdout",
     "output_type": "stream",
     "text": [
      "Epoch 1/50\n"
     ]
    },
    {
     "name": "stderr",
     "output_type": "stream",
     "text": [
      "C:\\Users\\lenovo\\AppData\\Roaming\\Python\\Python39\\site-packages\\tensorflow\\python\\framework\\indexed_slices.py:444: UserWarning: Converting sparse IndexedSlices(IndexedSlices(indices=Tensor(\"gradients/cond_3_grad/Identity_1:0\", shape=(None,), dtype=int32), values=Tensor(\"gradients/cond_3_grad/Identity:0\", shape=(None, 32), dtype=float32), dense_shape=Tensor(\"gradients/cond_3_grad/Identity_2:0\", shape=(2,), dtype=int32))) to a dense Tensor of unknown shape. This may consume a large amount of memory.\n",
      "  warnings.warn(\n",
      "C:\\Users\\lenovo\\AppData\\Roaming\\Python\\Python39\\site-packages\\tensorflow\\python\\framework\\indexed_slices.py:444: UserWarning: Converting sparse IndexedSlices(IndexedSlices(indices=Tensor(\"gradients/concat_3:0\", shape=(None,), dtype=int32), values=Tensor(\"gradients/concat_2:0\", shape=(None, 32), dtype=float32), dense_shape=Tensor(\"gradients/gnn__fi_lm_2/embedding_lookup_1_grad/Cast:0\", shape=(2,), dtype=int32))) to a dense Tensor of unknown shape. This may consume a large amount of memory.\n",
      "  warnings.warn(\n",
      "C:\\Users\\lenovo\\AppData\\Roaming\\Python\\Python39\\site-packages\\tensorflow\\python\\framework\\indexed_slices.py:444: UserWarning: Converting sparse IndexedSlices(IndexedSlices(indices=Tensor(\"gradients/cond_1_grad/Identity_1:0\", shape=(None,), dtype=int32), values=Tensor(\"gradients/cond_1_grad/Identity:0\", shape=(None, 32), dtype=float32), dense_shape=Tensor(\"gradients/cond_1_grad/Identity_2:0\", shape=(2,), dtype=int32))) to a dense Tensor of unknown shape. This may consume a large amount of memory.\n",
      "  warnings.warn(\n",
      "C:\\Users\\lenovo\\AppData\\Roaming\\Python\\Python39\\site-packages\\tensorflow\\python\\framework\\indexed_slices.py:444: UserWarning: Converting sparse IndexedSlices(IndexedSlices(indices=Tensor(\"gradients/gnn__fi_lm/embedding_lookup_1_grad/Reshape_1:0\", shape=(None,), dtype=int32), values=Tensor(\"gradients/gnn__fi_lm/embedding_lookup_1_grad/Reshape:0\", shape=(None, 32), dtype=float32), dense_shape=Tensor(\"gradients/gnn__fi_lm/embedding_lookup_1_grad/Cast:0\", shape=(2,), dtype=int32))) to a dense Tensor of unknown shape. This may consume a large amount of memory.\n",
      "  warnings.warn(\n",
      "C:\\Users\\lenovo\\AppData\\Roaming\\Python\\Python39\\site-packages\\tensorflow\\python\\framework\\indexed_slices.py:444: UserWarning: Converting sparse IndexedSlices(IndexedSlices(indices=Tensor(\"gradients/gnn__fi_lm/embedding_lookup_grad/Reshape_1:0\", shape=(None,), dtype=int32), values=Tensor(\"gradients/gnn__fi_lm/embedding_lookup_grad/Reshape:0\", shape=(None, 32), dtype=float32), dense_shape=Tensor(\"gradients/gnn__fi_lm/embedding_lookup_grad/Cast:0\", shape=(2,), dtype=int32))) to a dense Tensor of unknown shape. This may consume a large amount of memory.\n",
      "  warnings.warn(\n"
     ]
    },
    {
     "name": "stdout",
     "output_type": "stream",
     "text": [
      "633/633 [==============================] - 11s 14ms/step - loss: 0.6092 - auc: 0.7231 - val_loss: 0.5391 - val_auc: 0.8063 - lr: 0.0010\n",
      "Epoch 2/50\n",
      "633/633 [==============================] - 8s 13ms/step - loss: 0.5276 - auc: 0.8158 - val_loss: 0.5037 - val_auc: 0.8431 - lr: 0.0010\n",
      "Epoch 3/50\n",
      "633/633 [==============================] - 9s 14ms/step - loss: 0.4711 - auc: 0.8576 - val_loss: 0.4313 - val_auc: 0.8869 - lr: 0.0010\n",
      "Epoch 4/50\n",
      "633/633 [==============================] - 8s 13ms/step - loss: 0.4145 - auc: 0.8917 - val_loss: 0.3846 - val_auc: 0.9122 - lr: 0.0010\n",
      "Epoch 5/50\n",
      "633/633 [==============================] - 9s 14ms/step - loss: 0.3696 - auc: 0.9143 - val_loss: 0.3342 - val_auc: 0.9307 - lr: 0.0010\n",
      "Epoch 6/50\n",
      "633/633 [==============================] - 9s 14ms/step - loss: 0.3282 - auc: 0.9319 - val_loss: 0.3235 - val_auc: 0.9418 - lr: 0.0010\n",
      "Epoch 7/50\n",
      "633/633 [==============================] - 8s 13ms/step - loss: 0.2989 - auc: 0.9423 - val_loss: 0.2667 - val_auc: 0.9540 - lr: 0.0010\n",
      "Epoch 8/50\n",
      "633/633 [==============================] - 9s 14ms/step - loss: 0.2632 - auc: 0.9544 - val_loss: 0.2410 - val_auc: 0.9624 - lr: 0.0010\n",
      "Epoch 9/50\n",
      "633/633 [==============================] - 9s 14ms/step - loss: 0.2366 - auc: 0.9619 - val_loss: 0.2430 - val_auc: 0.9643 - lr: 0.0010\n",
      "Epoch 10/50\n",
      "633/633 [==============================] - 9s 14ms/step - loss: 0.2243 - auc: 0.9652 - val_loss: 0.2215 - val_auc: 0.9695 - lr: 0.0010\n",
      "Epoch 11/50\n",
      "633/633 [==============================] - 8s 13ms/step - loss: 0.1990 - auc: 0.9717 - val_loss: 0.1864 - val_auc: 0.9743 - lr: 0.0010\n",
      "Epoch 12/50\n",
      "633/633 [==============================] - 9s 14ms/step - loss: 0.1852 - auc: 0.9742 - val_loss: 0.1876 - val_auc: 0.9767 - lr: 0.0010\n",
      "Epoch 13/50\n",
      "633/633 [==============================] - 9s 13ms/step - loss: 0.1760 - auc: 0.9763 - val_loss: 0.1534 - val_auc: 0.9798 - lr: 0.0010\n",
      "Epoch 14/50\n",
      "633/633 [==============================] - 9s 13ms/step - loss: 0.1689 - auc: 0.9782 - val_loss: 0.1789 - val_auc: 0.9750 - lr: 0.0010\n",
      "Epoch 15/50\n",
      "633/633 [==============================] - 8s 13ms/step - loss: 0.1648 - auc: 0.9789 - val_loss: 0.1602 - val_auc: 0.9804 - lr: 0.0010\n",
      "Epoch 16/50\n",
      "633/633 [==============================] - 9s 13ms/step - loss: 0.1518 - auc: 0.9815 - val_loss: 0.1510 - val_auc: 0.9800 - lr: 0.0010\n",
      "Epoch 17/50\n",
      "633/633 [==============================] - 8s 13ms/step - loss: 0.1402 - auc: 0.9833 - val_loss: 0.1525 - val_auc: 0.9825 - lr: 0.0010\n",
      "Epoch 18/50\n",
      "633/633 [==============================] - 9s 13ms/step - loss: 0.1334 - auc: 0.9847 - val_loss: 0.1516 - val_auc: 0.9827 - lr: 0.0010\n",
      "Epoch 19/50\n",
      "633/633 [==============================] - 8s 13ms/step - loss: 0.1244 - auc: 0.9864 - val_loss: 0.1376 - val_auc: 0.9851 - lr: 0.0010\n",
      "Epoch 20/50\n",
      "633/633 [==============================] - 8s 13ms/step - loss: 0.1210 - auc: 0.9873 - val_loss: 0.1457 - val_auc: 0.9845 - lr: 0.0010\n",
      "Epoch 21/50\n",
      "633/633 [==============================] - 8s 13ms/step - loss: 0.1194 - auc: 0.9876 - val_loss: 0.1559 - val_auc: 0.9807 - lr: 0.0010\n",
      "Epoch 22/50\n",
      "633/633 [==============================] - 9s 13ms/step - loss: 0.1104 - auc: 0.9889 - val_loss: 0.1236 - val_auc: 0.9854 - lr: 0.0010\n",
      "Epoch 23/50\n",
      "633/633 [==============================] - 8s 13ms/step - loss: 0.1096 - auc: 0.9890 - val_loss: 0.1407 - val_auc: 0.9868 - lr: 0.0010\n",
      "Epoch 24/50\n",
      "633/633 [==============================] - 8s 13ms/step - loss: 0.0941 - auc: 0.9912 - val_loss: 0.1200 - val_auc: 0.9870 - lr: 0.0010\n",
      "Epoch 25/50\n",
      "633/633 [==============================] - 9s 13ms/step - loss: 0.0996 - auc: 0.9907 - val_loss: 0.1106 - val_auc: 0.9884 - lr: 0.0010\n",
      "Epoch 26/50\n",
      "633/633 [==============================] - 8s 13ms/step - loss: 0.0926 - auc: 0.9919 - val_loss: 0.1068 - val_auc: 0.9891 - lr: 0.0010\n",
      "Epoch 27/50\n",
      "633/633 [==============================] - 9s 14ms/step - loss: 0.0925 - auc: 0.9918 - val_loss: 0.1082 - val_auc: 0.9872 - lr: 0.0010\n",
      "Epoch 28/50\n",
      "633/633 [==============================] - 8s 13ms/step - loss: 0.0920 - auc: 0.9918 - val_loss: 0.1144 - val_auc: 0.9862 - lr: 0.0010\n",
      "Epoch 29/50\n",
      "633/633 [==============================] - 9s 14ms/step - loss: 0.0915 - auc: 0.9921 - val_loss: 0.1297 - val_auc: 0.9876 - lr: 0.0010\n",
      "Epoch 30/50\n",
      "633/633 [==============================] - 9s 14ms/step - loss: 0.0807 - auc: 0.9933 - val_loss: 0.0793 - val_auc: 0.9921 - lr: 0.0010\n",
      "Epoch 31/50\n",
      "633/633 [==============================] - 9s 14ms/step - loss: 0.0784 - auc: 0.9939 - val_loss: 0.1048 - val_auc: 0.9890 - lr: 0.0010\n",
      "Epoch 32/50\n",
      "633/633 [==============================] - 9s 14ms/step - loss: 0.0823 - auc: 0.9933 - val_loss: 0.1094 - val_auc: 0.9882 - lr: 0.0010\n",
      "Epoch 33/50\n",
      "633/633 [==============================] - 8s 13ms/step - loss: 0.0756 - auc: 0.9940 - val_loss: 0.1017 - val_auc: 0.9894 - lr: 0.0010\n",
      "Epoch 34/50\n",
      "632/633 [============================>.] - ETA: 0s - loss: 0.0739 - auc: 0.9942\n",
      "Epoch 34: ReduceLROnPlateau reducing learning rate to 0.00020000000949949026.\n",
      "633/633 [==============================] - 9s 13ms/step - loss: 0.0739 - auc: 0.9942 - val_loss: 0.1225 - val_auc: 0.9871 - lr: 0.0010\n",
      "Epoch 35/50\n",
      "633/633 [==============================] - 9s 14ms/step - loss: 0.0637 - auc: 0.9959 - val_loss: 0.0749 - val_auc: 0.9929 - lr: 2.0000e-04\n",
      "Epoch 36/50\n",
      "633/633 [==============================] - 9s 13ms/step - loss: 0.0524 - auc: 0.9968 - val_loss: 0.0921 - val_auc: 0.9896 - lr: 2.0000e-04\n",
      "Epoch 37/50\n",
      "633/633 [==============================] - 9s 14ms/step - loss: 0.0474 - auc: 0.9973 - val_loss: 0.0762 - val_auc: 0.9929 - lr: 2.0000e-04\n",
      "Epoch 38/50\n",
      "633/633 [==============================] - 9s 14ms/step - loss: 0.0429 - auc: 0.9976 - val_loss: 0.0856 - val_auc: 0.9925 - lr: 2.0000e-04\n",
      "Epoch 39/50\n",
      "633/633 [==============================] - 9s 14ms/step - loss: 0.0396 - auc: 0.9979 - val_loss: 0.0721 - val_auc: 0.9929 - lr: 2.0000e-04\n",
      "Epoch 40/50\n",
      "633/633 [==============================] - 9s 14ms/step - loss: 0.0391 - auc: 0.9980 - val_loss: 0.0746 - val_auc: 0.9917 - lr: 2.0000e-04\n",
      "Epoch 41/50\n",
      "633/633 [==============================] - 8s 13ms/step - loss: 0.0374 - auc: 0.9981 - val_loss: 0.0784 - val_auc: 0.9920 - lr: 2.0000e-04\n",
      "Epoch 42/50\n",
      "633/633 [==============================] - 9s 14ms/step - loss: 0.0350 - auc: 0.9983 - val_loss: 0.0761 - val_auc: 0.9934 - lr: 2.0000e-04\n",
      "Epoch 43/50\n",
      "632/633 [============================>.] - ETA: 0s - loss: 0.0344 - auc: 0.9983\n",
      "Epoch 43: ReduceLROnPlateau reducing learning rate to 0.0001.\n",
      "633/633 [==============================] - 8s 13ms/step - loss: 0.0344 - auc: 0.9983 - val_loss: 0.0737 - val_auc: 0.9928 - lr: 2.0000e-04\n",
      "Epoch 44/50\n",
      "633/633 [==============================] - 8s 13ms/step - loss: 0.0311 - auc: 0.9986 - val_loss: 0.0689 - val_auc: 0.9933 - lr: 1.0000e-04\n",
      "Epoch 45/50\n",
      "633/633 [==============================] - 8s 13ms/step - loss: 0.0301 - auc: 0.9986 - val_loss: 0.0720 - val_auc: 0.9927 - lr: 1.0000e-04\n",
      "Epoch 46/50\n",
      "633/633 [==============================] - 9s 14ms/step - loss: 0.0276 - auc: 0.9988 - val_loss: 0.0712 - val_auc: 0.9928 - lr: 1.0000e-04\n",
      "Epoch 47/50\n",
      "633/633 [==============================] - 8s 13ms/step - loss: 0.0266 - auc: 0.9989 - val_loss: 0.0729 - val_auc: 0.9922 - lr: 1.0000e-04\n",
      "Epoch 48/50\n",
      "633/633 [==============================] - 9s 14ms/step - loss: 0.0272 - auc: 0.9989 - val_loss: 0.0707 - val_auc: 0.9922 - lr: 1.0000e-04\n",
      "Epoch 49/50\n",
      "633/633 [==============================] - 9s 14ms/step - loss: 0.0257 - auc: 0.9989 - val_loss: 0.0662 - val_auc: 0.9930 - lr: 1.0000e-04\n",
      "Epoch 50/50\n",
      "633/633 [==============================] - 9s 14ms/step - loss: 0.0260 - auc: 0.9989 - val_loss: 0.0680 - val_auc: 0.9933 - lr: 1.0000e-04\n"
     ]
    }
   ],
   "source": [
    "batch_size = 64\n",
    "num_batchs = math.ceil(len(training_set3) / batch_size)\n",
    "num_batchs_validation = math.ceil(len(validation_set3) / batch_size)\n",
    "\n",
    "early_stop = EarlyStopping(monitor='val_loss', patience=8, verbose=1,restore_best_weights=True)\n",
    "reduce_lr = ReduceLROnPlateau(monitor='val_loss', factor=0.2, patience=4, verbose=1, min_lr=0.0001)\n",
    "hist = modelf.fit(\n",
    "    gen_batch(\n",
    "        training_set3, batch_size=batch_size, repeat=True\n",
    "    ),\n",
    "    steps_per_epoch=num_batchs,\n",
    "    epochs=50,\n",
    "    validation_data=gen_batch(\n",
    "        validation_set3, batch_size=64, repeat=True\n",
    "    ),\n",
    "    validation_steps=num_batchs_validation,\n",
    "    verbose=1,callbacks=[early_stop, reduce_lr]\n",
    ")\n"
   ]
  },
  {
   "cell_type": "code",
   "execution_count": 173,
   "id": "aa2f15cf",
   "metadata": {},
   "outputs": [
    {
     "name": "stdout",
     "output_type": "stream",
     "text": [
      "193/193 [==============================] - 1s 6ms/step\n"
     ]
    }
   ],
   "source": [
    "#make a prediction by using the model 0.9933 auc\n",
    "y_pred_f = modelf.predict(\n",
    "    gen_batch(testing_set, batch_size=64, shuffle=False)\n",
    ")\n",
    "y_pred_f = np.reshape(y_pred_f, -1)\n",
    "submission = pd.DataFrame({'label':y_pred_f})\n",
    "submission.index.name = 'id'\n",
    "submission.to_csv('trial_3_filmFINAL1.csv')"
   ]
  },
  {
   "cell_type": "markdown",
   "id": "8865778b",
   "metadata": {},
   "source": [
    "still trial 3.6 was better if you ran the fit cell twice"
   ]
  },
  {
   "cell_type": "code",
   "execution_count": null,
   "id": "bdc800d5",
   "metadata": {},
   "outputs": [],
   "source": []
  }
 ],
 "metadata": {
  "kernelspec": {
   "display_name": "Python 3 (ipykernel)",
   "language": "python",
   "name": "python3"
  },
  "language_info": {
   "codemirror_mode": {
    "name": "ipython",
    "version": 3
   },
   "file_extension": ".py",
   "mimetype": "text/x-python",
   "name": "python",
   "nbconvert_exporter": "python",
   "pygments_lexer": "ipython3",
   "version": "3.9.13"
  }
 },
 "nbformat": 4,
 "nbformat_minor": 5
}
